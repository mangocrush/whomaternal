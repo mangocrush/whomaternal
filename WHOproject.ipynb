{
 "cells": [
  {
   "cell_type": "markdown",
   "id": "e3e2fdde-46d1-4dc3-b117-c6d89cd4b37d",
   "metadata": {},
   "source": [
    "## WHO Maternal Mortality Data Exploration\n",
    "### Introduction\n",
    "Maternal health, encompassing the well-being of women during pregnancy, childbirth, and the postnatal period, remains a critical global concern. Despite advancements over the past two decades, the toll of maternal mortality persists at an alarming rate. In 2020 alone, approximately 287,000 women lost their lives due to complications arising from pregnancy and childbirth, a figure deemed unacceptably high by global health agencies[[1](https://www.who.int/health-topics/maternal-health#tab=tab_1)].\n",
    "\n",
    "The leading causes of maternal mortality include direct factors such as excessive blood loss, infections, high blood pressure, unsafe abortion, and obstructed labor, alongside indirect factors like anemia, malaria, and heart disease. Distressingly, most of these deaths are preventable with timely intervention by skilled healthcare professionals in supportive environments. Addressing these disparities requires a multifaceted approach. Poverty often intertwines with poor reproductive health outcomes, as marginalized groups struggle to access antenatal and postpartum care[[2](https://www.who.int/europe/news-room/fact-sheets/item/maternal-and-newborn-health)]. Furthermore, the dynamics of maternal mortality vary across regions. \n",
    "\n",
    "Efforts to combat maternal mortality must extend beyond mere survival to encompass comprehensive care that promotes health and well-being. Central to this endeavor is ensuring equitable access to quality maternity care, addressing systemic inequalities, and safeguarding sexual and reproductive health rights. With the overarching goal of ending preventable maternal deaths, this project aims to explore maternal health data, shedding light on critical insights and guiding interventions to protect the lives of mothers and newborns worldwide."
   ]
  },
  {
   "cell_type": "markdown",
   "id": "346539a7-23fa-4ad2-9d2d-d971817ec99b",
   "metadata": {},
   "source": []
  },
  {
   "attachments": {},
   "cell_type": "markdown",
   "id": "62fdd20c-c677-4d7a-9845-3559c118dd16",
   "metadata": {
    "jp-MarkdownHeadingCollapsed": true
   },
   "source": [
    "### Data collection\n",
    "Considering that the main page on Maternal health lists infections, high blood pressure, unsafe abortion, and obstructed labor, alongside indirect factors like anemia, malaria, and heart disease as the most common causes of maternal injury and death, I will use these to guide my selection of indicators, while also considering markers related to poverty, underdevelopment, and access to antenatal and postpartum care. Souza et al does a great job bringing indirect social factors to the table in their systematic review, which I will also be considering for my data collection[[3](https://www.thelancet.com/journals/langlo/article/PIIS2214-109X(23)00468-0/fulltext)].\n",
    "\n",
    "The analysts at WHO have done a phenomenal job aggregating data and developing estimates in their 2023 publication on maternal health over 2000 to 2020 such that I could not fathom attempting to replicate; as such I will be using data pulled solely from the WHO MATERNAL, NEWBORN, CHILD AND ADOLESCENT HEALTH AND AGEING data portal, and developing visualizations for longitudinal global progress and doing some correlation investigation of my own[[4](https://www.who.int/publications/i/item/9789240068759)][[5](https://platform.who.int/data/maternal-newborn-child-adolescent-ageing/indicator-explorer-new)].\n",
    "\n",
    "I looked at all the indicators and selected only the quantitative ones related to maternal health and environmental/economic conditions that may have a relationship. I chose to not include any indicators related to neonatal health or the under-5 population for pertinence and brevity. I thought the policy indicators were interesting, but not relevant to any correlation explorations because most if not all of the data is boolean, rather than numeric data. This would be interesting for a visualization split.\n",
    "\n",
    "Here is a look of the indicators I pulled from the portal; metadata can be accessed directly from the data portal link above.\n",
    "\n",
    "- Maternal mortality ratio (per 100 000 live births) (SDG 3.1.1)\n",
    "\n",
    "Maternal health conditions\n",
    "- Antenatal care coverage - at least four visits (%)\n",
    "- Proportion of births delivered in a health facility\n",
    "- Proportion of births attended by skilled health personnel (SDG 3.1.2)\n",
    "- Proportion of women accessing antenatal care services who were tested for syphilis\n",
    "- Proportion of mothers who had postnatal contact with a health provider within 2 days of delivery\n",
    "- Proportion of women of reproductive age (aged 15-49 years) who have their need for family planning satisfied with modern methods (SDG 3.7.1)\n",
    "- Contraceptive prevalence - any modern method (among women aged 15-49 years)\n",
    "- Prevalence of anaemia in non-pregnant women aged 15-49 years (%) (SDG 2.2.3)\n",
    "- Prevalence of anaemia in pregnant women aged 15-49 years (%) (SDG 2.2.3)\n",
    "- Proportion of women with a live birth who received iron tablets or syrup during antenatal care\n",
    "\n",
    "Social/economic conditions\n",
    "- Crude death rate (deaths per 1000 population)\n",
    "- Median age (years)\n",
    "- Sex ratio at birth (male births per female births)\n",
    "- Total fertility rate (live births per woman)\n",
    "- Frequency of meetings of national panel to review maternal deaths\n",
    "- Health expenditures on Maternal Conditions, in constant (2020) international \\$ (PPP) per capita\n",
    "- Health expenditures on Contraceptive Management (Family Planning), in constant (2020) international \\$ (PPP) per capita\n",
    "- Health expenditures on Reproductive Health, in constant (2020) international \\$ (PPP) per capita\n",
    "- Proportion of population below the international poverty line (SDG 1.1.1)\n",
    "- Population using at least basic drinking-water services (%) (SDG 6.1.1)\n",
    "- Population using at least basic sanitation services (%) (SDG 6.2.1)\n",
    "- Proportion of population using improved water supplies\n",
    "- Proportion of population using improved sanitation facilities (excluding shared)\n",
    "- Proportion of handwashing facility on premises with soap and water (SDG 6.2.1)\n",
    "\n",
    "I wanted to use the indicator \"Youth literacy rate, population 15-24 years (%)\", but it seems the data is relatively sparse and focused on just a couple regions with little to no country data. Data download from this portal only allows for 10 indicators at once, so I completed it in 3 chunks, each one including maternal mortality, for a total of 25 indicators including maternal mortality.\n",
    "\n",
    "Maternal mortality data stops at 2020; parallel to the WHO Trends in maternal mortality publication in 2023, I will be pulling data from the years 2000 to 2020."
   ]
  },
  {
   "attachments": {},
   "cell_type": "markdown",
   "id": "0c9a17e7-2fb4-4ae5-904d-e273ceeca1d9",
   "metadata": {
    "jp-MarkdownHeadingCollapsed": true
   },
   "source": [
    "### Preliminary data exploration, wrangling\n",
    "WHO has aggregated their own data into annual Sustainable Development Goals (SDG) regional, income, and global chunks, but sparingly, likely dependent on completeness of data and relevance to the SDG missions.\n",
    "\n",
    "In `maternaldata.xlsx`, the indicators that have global/regional data are Sex Ratio at Birth (every 5 years) and Total Fertility Rate (annual).<br>\n",
    "In `maternaldata2.xlsx`, the indicators that have global/regional data are Crude Death Rate (annual) and Median Age (every 5 years).<br>\n",
    "In `maternaldata3.xlsx`, the indicators that have global/regional data are Proportion of population below the international poverty line (annual 2000-2019), Proportion of population using improved sanitation facilities (annual 2009-2017), and Proportion of population using improved water supplies (annual 2009-2017).\n",
    "\n",
    "Due to the sparse nature of the global/regional data, I will be aggregating my own regional/global data based on the WHO regions: Africa, Americas, Eastern Mediterranean, Europe, South-East Asia, and Western Pacific."
   ]
  },
  {
   "cell_type": "code",
   "execution_count": 321,
   "id": "5dcfabdb-67f4-448a-a695-0b823d5d3517",
   "metadata": {},
   "outputs": [],
   "source": [
    "import pandas as pd\n",
    "import numpy as np\n",
    "import scipy\n",
    "import seaborn as sns\n",
    "import matplotlib.pyplot as plt\n",
    "import pingouin as pg"
   ]
  },
  {
   "cell_type": "code",
   "execution_count": 157,
   "id": "6cc0ffec-0950-4066-be96-20509e0ed41c",
   "metadata": {},
   "outputs": [
    {
     "name": "stderr",
     "output_type": "stream",
     "text": [
      "C:\\Users\\Michelle Zhou\\AppData\\Local\\Temp\\ipykernel_10092\\3099664767.py:2: DtypeWarning: Columns (3,5,8,11,15,17) have mixed types. Specify dtype option on import or set low_memory=False.\n",
      "  df2=pd.read_csv(\"C:\\\\Users\\\\Michelle Zhou\\\\Documents\\\\2024\\\\who maternal project\\\\maternaldata2.csv\")\n",
      "C:\\Users\\Michelle Zhou\\AppData\\Local\\Temp\\ipykernel_10092\\3099664767.py:3: DtypeWarning: Columns (3,7,8) have mixed types. Specify dtype option on import or set low_memory=False.\n",
      "  df3=pd.read_csv(\"C:\\\\Users\\\\Michelle Zhou\\\\Documents\\\\2024\\\\who maternal project\\\\maternaldata3.csv\")\n"
     ]
    }
   ],
   "source": [
    "df=pd.read_csv(\"C:\\\\Users\\\\Michelle Zhou\\\\Documents\\\\2024\\\\who maternal project\\\\maternaldata.csv\")\n",
    "df2=pd.read_csv(\"C:\\\\Users\\\\Michelle Zhou\\\\Documents\\\\2024\\\\who maternal project\\\\maternaldata2.csv\")\n",
    "df3=pd.read_csv(\"C:\\\\Users\\\\Michelle Zhou\\\\Documents\\\\2024\\\\who maternal project\\\\maternaldata3.csv\")"
   ]
  },
  {
   "cell_type": "code",
   "execution_count": 158,
   "id": "9bdccf61-500c-4dc7-ad8d-6de962a31dec",
   "metadata": {},
   "outputs": [
    {
     "name": "stdout",
     "output_type": "stream",
     "text": [
      "['Indicator', 'Year', 'Country', 'Global', 'WHO region', 'SDG region', 'World bank income group', 'Age group', 'Measure', 'Residence area', 'Sex', 'Wealth quintile', 'Datasource short', 'Datasource long', 'Comments', 'Value Numeric', 'Value String', 'Value low', 'Value high']\n"
     ]
    }
   ],
   "source": [
    "print(df.columns.tolist())"
   ]
  },
  {
   "cell_type": "code",
   "execution_count": 159,
   "id": "f4d6cdd4-736e-45f0-a7a1-6a8d8515ec81",
   "metadata": {},
   "outputs": [
    {
     "name": "stdout",
     "output_type": "stream",
     "text": [
      "['Indicator', 'Year', 'Country', 'Global', 'WHO region', 'SDG region', 'World bank income group', 'Age group', 'Measure', 'Mother education', 'Residence area', 'SAB definition', 'Wealth quintile', 'Datasource short', 'Datasource long', 'Comments', 'Value Numeric', 'Value String', 'Value low', 'Value high']\n"
     ]
    }
   ],
   "source": [
    "print(df2.columns.tolist())"
   ]
  },
  {
   "cell_type": "code",
   "execution_count": 160,
   "id": "f81ad625-4be8-46b1-aa58-c96dda340a2d",
   "metadata": {},
   "outputs": [
    {
     "name": "stdout",
     "output_type": "stream",
     "text": [
      "['Indicator', 'Year', 'Country', 'Global', 'WHO region', 'SDG region', 'World bank income group', 'Imp. sanitation', 'Imp. water', 'Residence area', 'Sex', 'Comments', 'Value Numeric', 'Value String', 'Value low', 'Value high']\n"
     ]
    }
   ],
   "source": [
    "print(df3.columns.tolist())"
   ]
  },
  {
   "cell_type": "code",
   "execution_count": 161,
   "id": "9851b3d9-2f1e-4db1-9270-57d3ecc065d5",
   "metadata": {},
   "outputs": [
    {
     "data": {
      "text/plain": [
       "Indicator                   object\n",
       "Year                         int64\n",
       "Country                     object\n",
       "Global                      object\n",
       "WHO region                  object\n",
       "SDG region                  object\n",
       "World bank income group     object\n",
       "Age group                   object\n",
       "Measure                     object\n",
       "Residence area              object\n",
       "Sex                         object\n",
       "Wealth quintile             object\n",
       "Datasource short            object\n",
       "Datasource long             object\n",
       "Comments                    object\n",
       "Value Numeric              float64\n",
       "Value String                object\n",
       "Value low                  float64\n",
       "Value high                 float64\n",
       "dtype: object"
      ]
     },
     "execution_count": 161,
     "metadata": {},
     "output_type": "execute_result"
    }
   ],
   "source": [
    "df.dtypes"
   ]
  },
  {
   "cell_type": "code",
   "execution_count": 162,
   "id": "a9b017c9-3b8d-45f8-b9ee-0234cc83f9ce",
   "metadata": {},
   "outputs": [
    {
     "data": {
      "text/plain": [
       "Indicator                   object\n",
       "Year                         int64\n",
       "Country                     object\n",
       "Global                      object\n",
       "WHO region                  object\n",
       "SDG region                  object\n",
       "World bank income group     object\n",
       "Age group                   object\n",
       "Measure                     object\n",
       "Mother education            object\n",
       "Residence area              object\n",
       "SAB definition              object\n",
       "Wealth quintile             object\n",
       "Datasource short            object\n",
       "Datasource long             object\n",
       "Comments                    object\n",
       "Value Numeric              float64\n",
       "Value String                object\n",
       "Value low                  float64\n",
       "Value high                 float64\n",
       "dtype: object"
      ]
     },
     "execution_count": 162,
     "metadata": {},
     "output_type": "execute_result"
    }
   ],
   "source": [
    "df2.dtypes"
   ]
  },
  {
   "cell_type": "code",
   "execution_count": 163,
   "id": "86810cc9-38e5-4b37-81f9-ef14c841bae6",
   "metadata": {},
   "outputs": [
    {
     "data": {
      "text/plain": [
       "Indicator                   object\n",
       "Year                         int64\n",
       "Country                     object\n",
       "Global                      object\n",
       "WHO region                  object\n",
       "SDG region                 float64\n",
       "World bank income group     object\n",
       "Imp. sanitation             object\n",
       "Imp. water                  object\n",
       "Residence area              object\n",
       "Sex                        float64\n",
       "Comments                   float64\n",
       "Value Numeric              float64\n",
       "Value String                object\n",
       "Value low                  float64\n",
       "Value high                 float64\n",
       "dtype: object"
      ]
     },
     "execution_count": 163,
     "metadata": {},
     "output_type": "execute_result"
    }
   ],
   "source": [
    "df3.dtypes"
   ]
  },
  {
   "cell_type": "code",
   "execution_count": 164,
   "id": "d1357276-75eb-4576-ae3d-5c797a259aeb",
   "metadata": {},
   "outputs": [],
   "source": [
    "# changing numeric values of maternal death panel frequency since they are codes and not actual values that represent numeric data\n",
    "df.loc[df['Value String'] == 'Does not apply', 'Value Numeric'] = 0\n",
    "df.loc[df['Value String'] == 'Unknown', 'Value Numeric'] = float('nan')\n",
    "df.loc[df['Value String'] == 'ANNUALLY', 'Value Numeric'] = 1\n",
    "df.loc[df['Value String'] == 'SEMI-ANNUALLY', 'Value Numeric'] = 2\n",
    "df.loc[df['Value String'] == 'QUARTERLY', 'Value Numeric'] = 4\n",
    "df.loc[df['Value String'] == 'MONTHLY', 'Value Numeric'] = 12"
   ]
  },
  {
   "cell_type": "code",
   "execution_count": 165,
   "id": "4fbe4cae-6fb2-4649-87ee-8171c5316cdd",
   "metadata": {},
   "outputs": [
    {
     "data": {
      "text/html": [
       "<div>\n",
       "<style scoped>\n",
       "    .dataframe tbody tr th:only-of-type {\n",
       "        vertical-align: middle;\n",
       "    }\n",
       "\n",
       "    .dataframe tbody tr th {\n",
       "        vertical-align: top;\n",
       "    }\n",
       "\n",
       "    .dataframe thead th {\n",
       "        text-align: right;\n",
       "    }\n",
       "</style>\n",
       "<table border=\"1\" class=\"dataframe\">\n",
       "  <thead>\n",
       "    <tr style=\"text-align: right;\">\n",
       "      <th></th>\n",
       "      <th>Country</th>\n",
       "      <th>Year</th>\n",
       "      <th>WHO region</th>\n",
       "      <th>World bank income group</th>\n",
       "      <th>Antenatal care coverage - at least four visits (%)</th>\n",
       "      <th>Frequency of meetings of national panel to review maternal deaths</th>\n",
       "      <th>Maternal mortality ratio (per 100 000 live births) (SDG 3.1.1)</th>\n",
       "      <th>Prevalence of anaemia in non-pregnant women aged 15-49 years (%) (SDG 2.2.3)</th>\n",
       "      <th>Prevalence of anaemia in pregnant women aged 15-49 years (%) (SDG 2.2.3)</th>\n",
       "      <th>Proportion of mothers who had postnatal contact with a health provider within 2 days of delivery</th>\n",
       "      <th>Proportion of women accessing antenatal care services who were tested for syphilis</th>\n",
       "      <th>Proportion of women of reproductive age (aged 15-49 years) who have their need for family planning satisfied with modern methods (SDG 3.7.1)</th>\n",
       "      <th>Sex ratio at birth (male births per female births)</th>\n",
       "      <th>Total fertility rate (live births per woman)</th>\n",
       "    </tr>\n",
       "  </thead>\n",
       "  <tbody>\n",
       "    <tr>\n",
       "      <th>0</th>\n",
       "      <td>Afghanistan</td>\n",
       "      <td>2000</td>\n",
       "      <td>Eastern Mediterranean</td>\n",
       "      <td>Low income</td>\n",
       "      <td>NaN</td>\n",
       "      <td>NaN</td>\n",
       "      <td>1346.14410</td>\n",
       "      <td>34.2</td>\n",
       "      <td>44.4</td>\n",
       "      <td>NaN</td>\n",
       "      <td>NaN</td>\n",
       "      <td>21.0</td>\n",
       "      <td>106.5</td>\n",
       "      <td>7.485</td>\n",
       "    </tr>\n",
       "    <tr>\n",
       "      <th>1</th>\n",
       "      <td>Afghanistan</td>\n",
       "      <td>2001</td>\n",
       "      <td>Eastern Mediterranean</td>\n",
       "      <td>Low income</td>\n",
       "      <td>NaN</td>\n",
       "      <td>NaN</td>\n",
       "      <td>1273.43134</td>\n",
       "      <td>34.1</td>\n",
       "      <td>43.9</td>\n",
       "      <td>NaN</td>\n",
       "      <td>NaN</td>\n",
       "      <td>22.6</td>\n",
       "      <td>NaN</td>\n",
       "      <td>7.387</td>\n",
       "    </tr>\n",
       "    <tr>\n",
       "      <th>2</th>\n",
       "      <td>Afghanistan</td>\n",
       "      <td>2002</td>\n",
       "      <td>Eastern Mediterranean</td>\n",
       "      <td>Low income</td>\n",
       "      <td>NaN</td>\n",
       "      <td>NaN</td>\n",
       "      <td>1277.30797</td>\n",
       "      <td>34.1</td>\n",
       "      <td>43.4</td>\n",
       "      <td>NaN</td>\n",
       "      <td>NaN</td>\n",
       "      <td>24.6</td>\n",
       "      <td>NaN</td>\n",
       "      <td>7.272</td>\n",
       "    </tr>\n",
       "    <tr>\n",
       "      <th>3</th>\n",
       "      <td>Afghanistan</td>\n",
       "      <td>2003</td>\n",
       "      <td>Eastern Mediterranean</td>\n",
       "      <td>Low income</td>\n",
       "      <td>NaN</td>\n",
       "      <td>NaN</td>\n",
       "      <td>1196.09069</td>\n",
       "      <td>34.2</td>\n",
       "      <td>42.9</td>\n",
       "      <td>NaN</td>\n",
       "      <td>NaN</td>\n",
       "      <td>26.7</td>\n",
       "      <td>NaN</td>\n",
       "      <td>7.148</td>\n",
       "    </tr>\n",
       "    <tr>\n",
       "      <th>4</th>\n",
       "      <td>Afghanistan</td>\n",
       "      <td>2004</td>\n",
       "      <td>Eastern Mediterranean</td>\n",
       "      <td>Low income</td>\n",
       "      <td>NaN</td>\n",
       "      <td>NaN</td>\n",
       "      <td>1114.88723</td>\n",
       "      <td>34.4</td>\n",
       "      <td>42.4</td>\n",
       "      <td>NaN</td>\n",
       "      <td>NaN</td>\n",
       "      <td>29.0</td>\n",
       "      <td>NaN</td>\n",
       "      <td>7.016</td>\n",
       "    </tr>\n",
       "  </tbody>\n",
       "</table>\n",
       "</div>"
      ],
      "text/plain": [
       "       Country  Year             WHO region World bank income group  \\\n",
       "0  Afghanistan  2000  Eastern Mediterranean              Low income   \n",
       "1  Afghanistan  2001  Eastern Mediterranean              Low income   \n",
       "2  Afghanistan  2002  Eastern Mediterranean              Low income   \n",
       "3  Afghanistan  2003  Eastern Mediterranean              Low income   \n",
       "4  Afghanistan  2004  Eastern Mediterranean              Low income   \n",
       "\n",
       "   Antenatal care coverage - at least four visits (%)  \\\n",
       "0                                                NaN    \n",
       "1                                                NaN    \n",
       "2                                                NaN    \n",
       "3                                                NaN    \n",
       "4                                                NaN    \n",
       "\n",
       "   Frequency of meetings of national panel to review maternal deaths  \\\n",
       "0                                                NaN                   \n",
       "1                                                NaN                   \n",
       "2                                                NaN                   \n",
       "3                                                NaN                   \n",
       "4                                                NaN                   \n",
       "\n",
       "   Maternal mortality ratio (per 100 000 live births) (SDG 3.1.1)  \\\n",
       "0                                         1346.14410                \n",
       "1                                         1273.43134                \n",
       "2                                         1277.30797                \n",
       "3                                         1196.09069                \n",
       "4                                         1114.88723                \n",
       "\n",
       "   Prevalence of anaemia in non-pregnant women aged 15-49 years (%) (SDG 2.2.3)  \\\n",
       "0                                               34.2                              \n",
       "1                                               34.1                              \n",
       "2                                               34.1                              \n",
       "3                                               34.2                              \n",
       "4                                               34.4                              \n",
       "\n",
       "   Prevalence of anaemia in pregnant women aged 15-49 years (%) (SDG 2.2.3)  \\\n",
       "0                                               44.4                          \n",
       "1                                               43.9                          \n",
       "2                                               43.4                          \n",
       "3                                               42.9                          \n",
       "4                                               42.4                          \n",
       "\n",
       "   Proportion of mothers who had postnatal contact with a health provider within 2 days of delivery  \\\n",
       "0                                                NaN                                                  \n",
       "1                                                NaN                                                  \n",
       "2                                                NaN                                                  \n",
       "3                                                NaN                                                  \n",
       "4                                                NaN                                                  \n",
       "\n",
       "   Proportion of women accessing antenatal care services who were tested for syphilis  \\\n",
       "0                                                NaN                                    \n",
       "1                                                NaN                                    \n",
       "2                                                NaN                                    \n",
       "3                                                NaN                                    \n",
       "4                                                NaN                                    \n",
       "\n",
       "   Proportion of women of reproductive age (aged 15-49 years) who have their need for family planning satisfied with modern methods (SDG 3.7.1)  \\\n",
       "0                                               21.0                                                                                              \n",
       "1                                               22.6                                                                                              \n",
       "2                                               24.6                                                                                              \n",
       "3                                               26.7                                                                                              \n",
       "4                                               29.0                                                                                              \n",
       "\n",
       "   Sex ratio at birth (male births per female births)  \\\n",
       "0                                              106.5    \n",
       "1                                                NaN    \n",
       "2                                                NaN    \n",
       "3                                                NaN    \n",
       "4                                                NaN    \n",
       "\n",
       "   Total fertility rate (live births per woman)  \n",
       "0                                         7.485  \n",
       "1                                         7.387  \n",
       "2                                         7.272  \n",
       "3                                         7.148  \n",
       "4                                         7.016  "
      ]
     },
     "execution_count": 165,
     "metadata": {},
     "output_type": "execute_result"
    }
   ],
   "source": [
    "df_wide = (df.pivot_table(index=['Country', 'Year', 'WHO region', 'World bank income group'], \n",
    "                      columns='Indicator', \n",
    "                      values='Value Numeric', \n",
    "                      aggfunc='first')\n",
    "        .reset_index()\n",
    "        .rename_axis(None, axis=1))\n",
    "df_wide.head()"
   ]
  },
  {
   "cell_type": "code",
   "execution_count": 166,
   "id": "d3f4fd9f-2ec8-4249-8277-ec1b36626885",
   "metadata": {},
   "outputs": [
    {
     "data": {
      "text/html": [
       "<div>\n",
       "<style scoped>\n",
       "    .dataframe tbody tr th:only-of-type {\n",
       "        vertical-align: middle;\n",
       "    }\n",
       "\n",
       "    .dataframe tbody tr th {\n",
       "        vertical-align: top;\n",
       "    }\n",
       "\n",
       "    .dataframe thead th {\n",
       "        text-align: right;\n",
       "    }\n",
       "</style>\n",
       "<table border=\"1\" class=\"dataframe\">\n",
       "  <thead>\n",
       "    <tr style=\"text-align: right;\">\n",
       "      <th></th>\n",
       "      <th>Country</th>\n",
       "      <th>Year</th>\n",
       "      <th>WHO region</th>\n",
       "      <th>World bank income group</th>\n",
       "      <th>Antenatal care coverage</th>\n",
       "      <th>Maternal death panel</th>\n",
       "      <th>Maternal mortality ratio</th>\n",
       "      <th>Nonpregnant anemia</th>\n",
       "      <th>Pregnant anemia</th>\n",
       "      <th>Postnatal contact</th>\n",
       "      <th>Syphilis test during pregnancy</th>\n",
       "      <th>Modern family planning</th>\n",
       "      <th>Birth sex ratio m to f</th>\n",
       "      <th>Total fertility rate</th>\n",
       "    </tr>\n",
       "  </thead>\n",
       "  <tbody>\n",
       "    <tr>\n",
       "      <th>0</th>\n",
       "      <td>Afghanistan</td>\n",
       "      <td>2000</td>\n",
       "      <td>Eastern Mediterranean</td>\n",
       "      <td>Low income</td>\n",
       "      <td>NaN</td>\n",
       "      <td>NaN</td>\n",
       "      <td>1346.14410</td>\n",
       "      <td>34.2</td>\n",
       "      <td>44.4</td>\n",
       "      <td>NaN</td>\n",
       "      <td>NaN</td>\n",
       "      <td>21.0</td>\n",
       "      <td>106.5</td>\n",
       "      <td>7.485</td>\n",
       "    </tr>\n",
       "    <tr>\n",
       "      <th>1</th>\n",
       "      <td>Afghanistan</td>\n",
       "      <td>2001</td>\n",
       "      <td>Eastern Mediterranean</td>\n",
       "      <td>Low income</td>\n",
       "      <td>NaN</td>\n",
       "      <td>NaN</td>\n",
       "      <td>1273.43134</td>\n",
       "      <td>34.1</td>\n",
       "      <td>43.9</td>\n",
       "      <td>NaN</td>\n",
       "      <td>NaN</td>\n",
       "      <td>22.6</td>\n",
       "      <td>NaN</td>\n",
       "      <td>7.387</td>\n",
       "    </tr>\n",
       "    <tr>\n",
       "      <th>2</th>\n",
       "      <td>Afghanistan</td>\n",
       "      <td>2002</td>\n",
       "      <td>Eastern Mediterranean</td>\n",
       "      <td>Low income</td>\n",
       "      <td>NaN</td>\n",
       "      <td>NaN</td>\n",
       "      <td>1277.30797</td>\n",
       "      <td>34.1</td>\n",
       "      <td>43.4</td>\n",
       "      <td>NaN</td>\n",
       "      <td>NaN</td>\n",
       "      <td>24.6</td>\n",
       "      <td>NaN</td>\n",
       "      <td>7.272</td>\n",
       "    </tr>\n",
       "    <tr>\n",
       "      <th>3</th>\n",
       "      <td>Afghanistan</td>\n",
       "      <td>2003</td>\n",
       "      <td>Eastern Mediterranean</td>\n",
       "      <td>Low income</td>\n",
       "      <td>NaN</td>\n",
       "      <td>NaN</td>\n",
       "      <td>1196.09069</td>\n",
       "      <td>34.2</td>\n",
       "      <td>42.9</td>\n",
       "      <td>NaN</td>\n",
       "      <td>NaN</td>\n",
       "      <td>26.7</td>\n",
       "      <td>NaN</td>\n",
       "      <td>7.148</td>\n",
       "    </tr>\n",
       "    <tr>\n",
       "      <th>4</th>\n",
       "      <td>Afghanistan</td>\n",
       "      <td>2004</td>\n",
       "      <td>Eastern Mediterranean</td>\n",
       "      <td>Low income</td>\n",
       "      <td>NaN</td>\n",
       "      <td>NaN</td>\n",
       "      <td>1114.88723</td>\n",
       "      <td>34.4</td>\n",
       "      <td>42.4</td>\n",
       "      <td>NaN</td>\n",
       "      <td>NaN</td>\n",
       "      <td>29.0</td>\n",
       "      <td>NaN</td>\n",
       "      <td>7.016</td>\n",
       "    </tr>\n",
       "  </tbody>\n",
       "</table>\n",
       "</div>"
      ],
      "text/plain": [
       "       Country  Year             WHO region World bank income group  \\\n",
       "0  Afghanistan  2000  Eastern Mediterranean              Low income   \n",
       "1  Afghanistan  2001  Eastern Mediterranean              Low income   \n",
       "2  Afghanistan  2002  Eastern Mediterranean              Low income   \n",
       "3  Afghanistan  2003  Eastern Mediterranean              Low income   \n",
       "4  Afghanistan  2004  Eastern Mediterranean              Low income   \n",
       "\n",
       "   Antenatal care coverage  Maternal death panel  Maternal mortality ratio  \\\n",
       "0                      NaN                   NaN                1346.14410   \n",
       "1                      NaN                   NaN                1273.43134   \n",
       "2                      NaN                   NaN                1277.30797   \n",
       "3                      NaN                   NaN                1196.09069   \n",
       "4                      NaN                   NaN                1114.88723   \n",
       "\n",
       "   Nonpregnant anemia  Pregnant anemia  Postnatal contact  \\\n",
       "0                34.2             44.4                NaN   \n",
       "1                34.1             43.9                NaN   \n",
       "2                34.1             43.4                NaN   \n",
       "3                34.2             42.9                NaN   \n",
       "4                34.4             42.4                NaN   \n",
       "\n",
       "   Syphilis test during pregnancy  Modern family planning  \\\n",
       "0                             NaN                    21.0   \n",
       "1                             NaN                    22.6   \n",
       "2                             NaN                    24.6   \n",
       "3                             NaN                    26.7   \n",
       "4                             NaN                    29.0   \n",
       "\n",
       "   Birth sex ratio m to f  Total fertility rate  \n",
       "0                   106.5                 7.485  \n",
       "1                     NaN                 7.387  \n",
       "2                     NaN                 7.272  \n",
       "3                     NaN                 7.148  \n",
       "4                     NaN                 7.016  "
      ]
     },
     "execution_count": 166,
     "metadata": {},
     "output_type": "execute_result"
    }
   ],
   "source": [
    "df_wide = df_wide.rename(columns={'Antenatal care coverage - at least four visits (%)':'Antenatal care coverage',\n",
    "                                  'Frequency of meetings of national panel to review maternal deaths':'Maternal death panel',\n",
    "                                  'Maternal mortality ratio (per 100 000 live births) (SDG 3.1.1)':'Maternal mortality ratio',\n",
    "                                  'Prevalence of anaemia in non-pregnant women aged 15-49 years (%) (SDG 2.2.3)':'Nonpregnant anemia',\n",
    "                                  'Prevalence of anaemia in pregnant women aged 15-49 years (%) (SDG 2.2.3)':'Pregnant anemia',\n",
    "                                  'Proportion of mothers who had postnatal contact with a health provider within 2 days of delivery':'Postnatal contact',\n",
    "                                  'Proportion of women accessing antenatal care services who were tested for syphilis':'Syphilis test during pregnancy',\n",
    "                                  'Proportion of women of reproductive age (aged 15-49 years) who have their need for family planning satisfied with modern methods (SDG 3.7.1)':'Modern family planning',\n",
    "                                  'Sex ratio at birth (male births per female births)':'Birth sex ratio male to female',\n",
    "                                  'Total fertility rate (live births per woman)':'Total fertility rate'})\n",
    "# For my column headers, I keep some level of complexity for readability despite them being harder to call for as a consequence\n",
    "# Since there are so many columns, it's easy to forget what each column is specifically for\n",
    "# Let's look at the table again with its new headers!\n",
    "df_wide.head()"
   ]
  },
  {
   "cell_type": "code",
   "execution_count": 167,
   "id": "cab42081-a307-4d04-b4aa-3a7d2606c216",
   "metadata": {},
   "outputs": [
    {
     "data": {
      "text/plain": [
       "4395"
      ]
     },
     "execution_count": 167,
     "metadata": {},
     "output_type": "execute_result"
    }
   ],
   "source": [
    "len(df_wide)"
   ]
  },
  {
   "cell_type": "code",
   "execution_count": 168,
   "id": "d69ae5bb-8e32-4b88-bb74-cdd1cdf9ed4d",
   "metadata": {},
   "outputs": [
    {
     "data": {
      "text/html": [
       "<div>\n",
       "<style scoped>\n",
       "    .dataframe tbody tr th:only-of-type {\n",
       "        vertical-align: middle;\n",
       "    }\n",
       "\n",
       "    .dataframe tbody tr th {\n",
       "        vertical-align: top;\n",
       "    }\n",
       "\n",
       "    .dataframe thead th {\n",
       "        text-align: right;\n",
       "    }\n",
       "</style>\n",
       "<table border=\"1\" class=\"dataframe\">\n",
       "  <thead>\n",
       "    <tr style=\"text-align: right;\">\n",
       "      <th></th>\n",
       "      <th>Country</th>\n",
       "      <th>Year</th>\n",
       "      <th>WHO region</th>\n",
       "      <th>World bank income group</th>\n",
       "      <th>Contraceptive prevalence - any modern method (among women aged 15-49 years)</th>\n",
       "      <th>Crude death rate (deaths per 1000 population)</th>\n",
       "      <th>Health expenditures on Maternal Conditions,in constant (2020) international $ (PPP) per capita</th>\n",
       "      <th>Health expenditures on Reproductive Health,in constant (2020) international $ (PPP) per capita</th>\n",
       "      <th>Health expenditures on the less than five-year-old population (&lt;5-y),in constant (2020) international $ (PPP) per capita</th>\n",
       "      <th>Maternal mortality ratio (per 100 000 live births) (SDG 3.1.1)</th>\n",
       "      <th>Median age (years)</th>\n",
       "      <th>Proportion of births attended by skilled health personnel (SDG 3.1.2)</th>\n",
       "      <th>Proportion of births delivered in a health facility</th>\n",
       "      <th>Proportion of women with a live birth who received iron tablets or syrup during antenatal care</th>\n",
       "    </tr>\n",
       "  </thead>\n",
       "  <tbody>\n",
       "    <tr>\n",
       "      <th>0</th>\n",
       "      <td>Afghanistan</td>\n",
       "      <td>2000</td>\n",
       "      <td>Eastern Mediterranean</td>\n",
       "      <td>Low income</td>\n",
       "      <td>7.6</td>\n",
       "      <td>11.718</td>\n",
       "      <td>NaN</td>\n",
       "      <td>NaN</td>\n",
       "      <td>NaN</td>\n",
       "      <td>1346.14410</td>\n",
       "      <td>14.127</td>\n",
       "      <td>NaN</td>\n",
       "      <td>NaN</td>\n",
       "      <td>NaN</td>\n",
       "    </tr>\n",
       "    <tr>\n",
       "      <th>1</th>\n",
       "      <td>Afghanistan</td>\n",
       "      <td>2001</td>\n",
       "      <td>Eastern Mediterranean</td>\n",
       "      <td>Low income</td>\n",
       "      <td>8.4</td>\n",
       "      <td>11.387</td>\n",
       "      <td>NaN</td>\n",
       "      <td>NaN</td>\n",
       "      <td>NaN</td>\n",
       "      <td>1273.43134</td>\n",
       "      <td>14.059</td>\n",
       "      <td>NaN</td>\n",
       "      <td>NaN</td>\n",
       "      <td>NaN</td>\n",
       "    </tr>\n",
       "    <tr>\n",
       "      <th>2</th>\n",
       "      <td>Afghanistan</td>\n",
       "      <td>2002</td>\n",
       "      <td>Eastern Mediterranean</td>\n",
       "      <td>Low income</td>\n",
       "      <td>9.3</td>\n",
       "      <td>11.048</td>\n",
       "      <td>NaN</td>\n",
       "      <td>NaN</td>\n",
       "      <td>NaN</td>\n",
       "      <td>1277.30797</td>\n",
       "      <td>14.025</td>\n",
       "      <td>NaN</td>\n",
       "      <td>NaN</td>\n",
       "      <td>NaN</td>\n",
       "    </tr>\n",
       "    <tr>\n",
       "      <th>3</th>\n",
       "      <td>Afghanistan</td>\n",
       "      <td>2003</td>\n",
       "      <td>Eastern Mediterranean</td>\n",
       "      <td>Low income</td>\n",
       "      <td>10.4</td>\n",
       "      <td>10.704</td>\n",
       "      <td>NaN</td>\n",
       "      <td>NaN</td>\n",
       "      <td>NaN</td>\n",
       "      <td>1196.09069</td>\n",
       "      <td>14.017</td>\n",
       "      <td>14.3</td>\n",
       "      <td>12.9</td>\n",
       "      <td>NaN</td>\n",
       "    </tr>\n",
       "    <tr>\n",
       "      <th>4</th>\n",
       "      <td>Afghanistan</td>\n",
       "      <td>2004</td>\n",
       "      <td>Eastern Mediterranean</td>\n",
       "      <td>Low income</td>\n",
       "      <td>11.7</td>\n",
       "      <td>10.356</td>\n",
       "      <td>NaN</td>\n",
       "      <td>NaN</td>\n",
       "      <td>NaN</td>\n",
       "      <td>1114.88723</td>\n",
       "      <td>14.033</td>\n",
       "      <td>NaN</td>\n",
       "      <td>NaN</td>\n",
       "      <td>NaN</td>\n",
       "    </tr>\n",
       "  </tbody>\n",
       "</table>\n",
       "</div>"
      ],
      "text/plain": [
       "       Country  Year             WHO region World bank income group  \\\n",
       "0  Afghanistan  2000  Eastern Mediterranean              Low income   \n",
       "1  Afghanistan  2001  Eastern Mediterranean              Low income   \n",
       "2  Afghanistan  2002  Eastern Mediterranean              Low income   \n",
       "3  Afghanistan  2003  Eastern Mediterranean              Low income   \n",
       "4  Afghanistan  2004  Eastern Mediterranean              Low income   \n",
       "\n",
       "   Contraceptive prevalence - any modern method (among women aged 15-49 years)  \\\n",
       "0                                                7.6                             \n",
       "1                                                8.4                             \n",
       "2                                                9.3                             \n",
       "3                                               10.4                             \n",
       "4                                               11.7                             \n",
       "\n",
       "   Crude death rate (deaths per 1000 population)  \\\n",
       "0                                         11.718   \n",
       "1                                         11.387   \n",
       "2                                         11.048   \n",
       "3                                         10.704   \n",
       "4                                         10.356   \n",
       "\n",
       "   Health expenditures on Maternal Conditions,in constant (2020) international $ (PPP) per capita  \\\n",
       "0                                                NaN                                                \n",
       "1                                                NaN                                                \n",
       "2                                                NaN                                                \n",
       "3                                                NaN                                                \n",
       "4                                                NaN                                                \n",
       "\n",
       "   Health expenditures on Reproductive Health,in constant (2020) international $ (PPP) per capita  \\\n",
       "0                                                NaN                                                \n",
       "1                                                NaN                                                \n",
       "2                                                NaN                                                \n",
       "3                                                NaN                                                \n",
       "4                                                NaN                                                \n",
       "\n",
       "   Health expenditures on the less than five-year-old population (<5-y),in constant (2020) international $ (PPP) per capita  \\\n",
       "0                                                NaN                                                                          \n",
       "1                                                NaN                                                                          \n",
       "2                                                NaN                                                                          \n",
       "3                                                NaN                                                                          \n",
       "4                                                NaN                                                                          \n",
       "\n",
       "   Maternal mortality ratio (per 100 000 live births) (SDG 3.1.1)  \\\n",
       "0                                         1346.14410                \n",
       "1                                         1273.43134                \n",
       "2                                         1277.30797                \n",
       "3                                         1196.09069                \n",
       "4                                         1114.88723                \n",
       "\n",
       "   Median age (years)  \\\n",
       "0              14.127   \n",
       "1              14.059   \n",
       "2              14.025   \n",
       "3              14.017   \n",
       "4              14.033   \n",
       "\n",
       "   Proportion of births attended by skilled health personnel (SDG 3.1.2)  \\\n",
       "0                                                NaN                       \n",
       "1                                                NaN                       \n",
       "2                                                NaN                       \n",
       "3                                               14.3                       \n",
       "4                                                NaN                       \n",
       "\n",
       "   Proportion of births delivered in a health facility  \\\n",
       "0                                                NaN     \n",
       "1                                                NaN     \n",
       "2                                                NaN     \n",
       "3                                               12.9     \n",
       "4                                                NaN     \n",
       "\n",
       "   Proportion of women with a live birth who received iron tablets or syrup during antenatal care  \n",
       "0                                                NaN                                               \n",
       "1                                                NaN                                               \n",
       "2                                                NaN                                               \n",
       "3                                                NaN                                               \n",
       "4                                                NaN                                               "
      ]
     },
     "execution_count": 168,
     "metadata": {},
     "output_type": "execute_result"
    }
   ],
   "source": [
    "df2_wide = (df2.pivot_table(index=['Country', 'Year', 'WHO region', 'World bank income group'], \n",
    "                      columns='Indicator', \n",
    "                      values='Value Numeric', \n",
    "                      aggfunc='first')\n",
    "        .reset_index()\n",
    "        .rename_axis(None, axis=1))\n",
    "df2_wide.head()\n",
    "# I see that the indicator i wanted to say \"Health expenditures on Contraceptive Management (Family Planning), in constant (2020) international $ (PPP) per capita\" says \"Health expenditures on the less than five-year-old population (<5-y),in constant (2020) international $ (PPP) per capita\"\n",
    "# I thought maybe this was a mistake I made but it was not; I went to the WHO indicator site and cross referenced the value data between the two pages and despite having the same indicator name, the data values are completely different. i am continuing to operate as if this is just a nominative mistake and the data is not impacted, and changing the column name"
   ]
  },
  {
   "cell_type": "code",
   "execution_count": 169,
   "id": "fbaaec6a-4c02-4582-bd28-25fdf7749d43",
   "metadata": {},
   "outputs": [
    {
     "data": {
      "text/html": [
       "<div>\n",
       "<style scoped>\n",
       "    .dataframe tbody tr th:only-of-type {\n",
       "        vertical-align: middle;\n",
       "    }\n",
       "\n",
       "    .dataframe tbody tr th {\n",
       "        vertical-align: top;\n",
       "    }\n",
       "\n",
       "    .dataframe thead th {\n",
       "        text-align: right;\n",
       "    }\n",
       "</style>\n",
       "<table border=\"1\" class=\"dataframe\">\n",
       "  <thead>\n",
       "    <tr style=\"text-align: right;\">\n",
       "      <th></th>\n",
       "      <th>Country</th>\n",
       "      <th>Year</th>\n",
       "      <th>WHO region</th>\n",
       "      <th>World bank income group</th>\n",
       "      <th>Contraceptive prevalence</th>\n",
       "      <th>Crude death rate</th>\n",
       "      <th>Maternal spending per capita</th>\n",
       "      <th>Reproductive spending per capita</th>\n",
       "      <th>Contraceptive spending per capita</th>\n",
       "      <th>Maternal mortality ratio</th>\n",
       "      <th>Median age</th>\n",
       "      <th>Skilled health personnel birth</th>\n",
       "      <th>Health facility birth</th>\n",
       "      <th>Iron supplements during pregnancy</th>\n",
       "    </tr>\n",
       "  </thead>\n",
       "  <tbody>\n",
       "    <tr>\n",
       "      <th>0</th>\n",
       "      <td>Afghanistan</td>\n",
       "      <td>2000</td>\n",
       "      <td>Eastern Mediterranean</td>\n",
       "      <td>Low income</td>\n",
       "      <td>7.6</td>\n",
       "      <td>11.718</td>\n",
       "      <td>NaN</td>\n",
       "      <td>NaN</td>\n",
       "      <td>NaN</td>\n",
       "      <td>1346.14410</td>\n",
       "      <td>14.127</td>\n",
       "      <td>NaN</td>\n",
       "      <td>NaN</td>\n",
       "      <td>NaN</td>\n",
       "    </tr>\n",
       "    <tr>\n",
       "      <th>1</th>\n",
       "      <td>Afghanistan</td>\n",
       "      <td>2001</td>\n",
       "      <td>Eastern Mediterranean</td>\n",
       "      <td>Low income</td>\n",
       "      <td>8.4</td>\n",
       "      <td>11.387</td>\n",
       "      <td>NaN</td>\n",
       "      <td>NaN</td>\n",
       "      <td>NaN</td>\n",
       "      <td>1273.43134</td>\n",
       "      <td>14.059</td>\n",
       "      <td>NaN</td>\n",
       "      <td>NaN</td>\n",
       "      <td>NaN</td>\n",
       "    </tr>\n",
       "    <tr>\n",
       "      <th>2</th>\n",
       "      <td>Afghanistan</td>\n",
       "      <td>2002</td>\n",
       "      <td>Eastern Mediterranean</td>\n",
       "      <td>Low income</td>\n",
       "      <td>9.3</td>\n",
       "      <td>11.048</td>\n",
       "      <td>NaN</td>\n",
       "      <td>NaN</td>\n",
       "      <td>NaN</td>\n",
       "      <td>1277.30797</td>\n",
       "      <td>14.025</td>\n",
       "      <td>NaN</td>\n",
       "      <td>NaN</td>\n",
       "      <td>NaN</td>\n",
       "    </tr>\n",
       "    <tr>\n",
       "      <th>3</th>\n",
       "      <td>Afghanistan</td>\n",
       "      <td>2003</td>\n",
       "      <td>Eastern Mediterranean</td>\n",
       "      <td>Low income</td>\n",
       "      <td>10.4</td>\n",
       "      <td>10.704</td>\n",
       "      <td>NaN</td>\n",
       "      <td>NaN</td>\n",
       "      <td>NaN</td>\n",
       "      <td>1196.09069</td>\n",
       "      <td>14.017</td>\n",
       "      <td>14.3</td>\n",
       "      <td>12.9</td>\n",
       "      <td>NaN</td>\n",
       "    </tr>\n",
       "    <tr>\n",
       "      <th>4</th>\n",
       "      <td>Afghanistan</td>\n",
       "      <td>2004</td>\n",
       "      <td>Eastern Mediterranean</td>\n",
       "      <td>Low income</td>\n",
       "      <td>11.7</td>\n",
       "      <td>10.356</td>\n",
       "      <td>NaN</td>\n",
       "      <td>NaN</td>\n",
       "      <td>NaN</td>\n",
       "      <td>1114.88723</td>\n",
       "      <td>14.033</td>\n",
       "      <td>NaN</td>\n",
       "      <td>NaN</td>\n",
       "      <td>NaN</td>\n",
       "    </tr>\n",
       "  </tbody>\n",
       "</table>\n",
       "</div>"
      ],
      "text/plain": [
       "       Country  Year             WHO region World bank income group  \\\n",
       "0  Afghanistan  2000  Eastern Mediterranean              Low income   \n",
       "1  Afghanistan  2001  Eastern Mediterranean              Low income   \n",
       "2  Afghanistan  2002  Eastern Mediterranean              Low income   \n",
       "3  Afghanistan  2003  Eastern Mediterranean              Low income   \n",
       "4  Afghanistan  2004  Eastern Mediterranean              Low income   \n",
       "\n",
       "   Contraceptive prevalence  Crude death rate  Maternal spending per capita  \\\n",
       "0                       7.6            11.718                           NaN   \n",
       "1                       8.4            11.387                           NaN   \n",
       "2                       9.3            11.048                           NaN   \n",
       "3                      10.4            10.704                           NaN   \n",
       "4                      11.7            10.356                           NaN   \n",
       "\n",
       "   Reproductive spending per capita  Contraceptive spending per capita  \\\n",
       "0                               NaN                                NaN   \n",
       "1                               NaN                                NaN   \n",
       "2                               NaN                                NaN   \n",
       "3                               NaN                                NaN   \n",
       "4                               NaN                                NaN   \n",
       "\n",
       "   Maternal mortality ratio  Median age  Skilled health personnel birth  \\\n",
       "0                1346.14410      14.127                             NaN   \n",
       "1                1273.43134      14.059                             NaN   \n",
       "2                1277.30797      14.025                             NaN   \n",
       "3                1196.09069      14.017                            14.3   \n",
       "4                1114.88723      14.033                             NaN   \n",
       "\n",
       "   Health facility birth  Iron supplements during pregnancy  \n",
       "0                    NaN                                NaN  \n",
       "1                    NaN                                NaN  \n",
       "2                    NaN                                NaN  \n",
       "3                   12.9                                NaN  \n",
       "4                    NaN                                NaN  "
      ]
     },
     "execution_count": 169,
     "metadata": {},
     "output_type": "execute_result"
    }
   ],
   "source": [
    "df2_wide = df2_wide.rename(columns={'Contraceptive prevalence - any modern method (among women aged 15-49 years)':'Contraceptive prevalence',\n",
    "                                  'Crude death rate (deaths per 1000 population)':'Crude death rate',\n",
    "                                  'Maternal mortality ratio (per 100 000 live births) (SDG 3.1.1)':'Maternal mortality ratio',\n",
    "                                  'Health expenditures on Maternal Conditions,in constant (2020) international $ (PPP) per capita':'Maternal spending per capita',\n",
    "                                  'Health expenditures on Reproductive Health,in constant (2020) international $ (PPP) per capita':'Reproductive spending per capita',\n",
    "                                  'Health expenditures on the less than five-year-old population (<5-y),in constant (2020) international $ (PPP) per capita':'Contraceptive spending per capita',\n",
    "                                  'Median age (years)':'Median age',\n",
    "                                  'Proportion of births attended by skilled health personnel (SDG 3.1.2)':'Skilled health personnel birth',\n",
    "                                  'Proportion of births delivered in a health facility':'Health facility birth',\n",
    "                                  'Proportion of women with a live birth who received iron tablets or syrup during antenatal care':'Iron supplements during pregnancy'})\n",
    "df2_wide.head()"
   ]
  },
  {
   "cell_type": "code",
   "execution_count": 170,
   "id": "d612fc4a-e827-46c6-be9d-d247677b8c1d",
   "metadata": {},
   "outputs": [
    {
     "data": {
      "text/plain": [
       "4410"
      ]
     },
     "execution_count": 170,
     "metadata": {},
     "output_type": "execute_result"
    }
   ],
   "source": [
    "len(df2_wide)"
   ]
  },
  {
   "cell_type": "code",
   "execution_count": 171,
   "id": "87853845-f215-44b7-9f29-121a066ecaf4",
   "metadata": {},
   "outputs": [
    {
     "data": {
      "text/html": [
       "<div>\n",
       "<style scoped>\n",
       "    .dataframe tbody tr th:only-of-type {\n",
       "        vertical-align: middle;\n",
       "    }\n",
       "\n",
       "    .dataframe tbody tr th {\n",
       "        vertical-align: top;\n",
       "    }\n",
       "\n",
       "    .dataframe thead th {\n",
       "        text-align: right;\n",
       "    }\n",
       "</style>\n",
       "<table border=\"1\" class=\"dataframe\">\n",
       "  <thead>\n",
       "    <tr style=\"text-align: right;\">\n",
       "      <th></th>\n",
       "      <th>Country</th>\n",
       "      <th>Year</th>\n",
       "      <th>WHO region</th>\n",
       "      <th>World bank income group</th>\n",
       "      <th>Maternal mortality ratio (per 100 000 live births) (SDG 3.1.1)</th>\n",
       "      <th>Population using at least basic drinking-water services (%) (SDG 6.1.1)</th>\n",
       "      <th>Population using at least basic sanitation services (%) (SDG 6.2.1)</th>\n",
       "      <th>Proportion of handwashing facility on premises with soap and water (SDG 6.2.1)</th>\n",
       "      <th>Proportion of population below the international poverty line (SDG 1.1.1 )</th>\n",
       "      <th>Proportion of population using improved sanitation facilities (excluding shared)</th>\n",
       "      <th>Proportion of population using improved water supplies</th>\n",
       "    </tr>\n",
       "  </thead>\n",
       "  <tbody>\n",
       "    <tr>\n",
       "      <th>0</th>\n",
       "      <td>Afghanistan</td>\n",
       "      <td>2000</td>\n",
       "      <td>Eastern Mediterranean</td>\n",
       "      <td>Low income</td>\n",
       "      <td>1346.14410</td>\n",
       "      <td>19.74518</td>\n",
       "      <td>18.19808</td>\n",
       "      <td>NaN</td>\n",
       "      <td>NaN</td>\n",
       "      <td>19.0</td>\n",
       "      <td>28.0</td>\n",
       "    </tr>\n",
       "    <tr>\n",
       "      <th>1</th>\n",
       "      <td>Afghanistan</td>\n",
       "      <td>2001</td>\n",
       "      <td>Eastern Mediterranean</td>\n",
       "      <td>Low income</td>\n",
       "      <td>1273.43134</td>\n",
       "      <td>54.60648</td>\n",
       "      <td>20.98235</td>\n",
       "      <td>NaN</td>\n",
       "      <td>NaN</td>\n",
       "      <td>19.0</td>\n",
       "      <td>17.0</td>\n",
       "    </tr>\n",
       "    <tr>\n",
       "      <th>2</th>\n",
       "      <td>Afghanistan</td>\n",
       "      <td>2002</td>\n",
       "      <td>Eastern Mediterranean</td>\n",
       "      <td>Low income</td>\n",
       "      <td>1277.30797</td>\n",
       "      <td>56.53996</td>\n",
       "      <td>19.74519</td>\n",
       "      <td>NaN</td>\n",
       "      <td>NaN</td>\n",
       "      <td>1.0</td>\n",
       "      <td>16.0</td>\n",
       "    </tr>\n",
       "    <tr>\n",
       "      <th>3</th>\n",
       "      <td>Afghanistan</td>\n",
       "      <td>2003</td>\n",
       "      <td>Eastern Mediterranean</td>\n",
       "      <td>Low income</td>\n",
       "      <td>1196.09069</td>\n",
       "      <td>58.47344</td>\n",
       "      <td>24.10033</td>\n",
       "      <td>NaN</td>\n",
       "      <td>NaN</td>\n",
       "      <td>24.0</td>\n",
       "      <td>41.0</td>\n",
       "    </tr>\n",
       "    <tr>\n",
       "      <th>4</th>\n",
       "      <td>Afghanistan</td>\n",
       "      <td>2004</td>\n",
       "      <td>Eastern Mediterranean</td>\n",
       "      <td>Low income</td>\n",
       "      <td>1114.88723</td>\n",
       "      <td>60.40692</td>\n",
       "      <td>25.66624</td>\n",
       "      <td>NaN</td>\n",
       "      <td>NaN</td>\n",
       "      <td>2.0</td>\n",
       "      <td>18.0</td>\n",
       "    </tr>\n",
       "  </tbody>\n",
       "</table>\n",
       "</div>"
      ],
      "text/plain": [
       "       Country  Year             WHO region World bank income group  \\\n",
       "0  Afghanistan  2000  Eastern Mediterranean              Low income   \n",
       "1  Afghanistan  2001  Eastern Mediterranean              Low income   \n",
       "2  Afghanistan  2002  Eastern Mediterranean              Low income   \n",
       "3  Afghanistan  2003  Eastern Mediterranean              Low income   \n",
       "4  Afghanistan  2004  Eastern Mediterranean              Low income   \n",
       "\n",
       "   Maternal mortality ratio (per 100 000 live births) (SDG 3.1.1)  \\\n",
       "0                                         1346.14410                \n",
       "1                                         1273.43134                \n",
       "2                                         1277.30797                \n",
       "3                                         1196.09069                \n",
       "4                                         1114.88723                \n",
       "\n",
       "   Population using at least basic drinking-water services (%) (SDG 6.1.1)  \\\n",
       "0                                           19.74518                         \n",
       "1                                           54.60648                         \n",
       "2                                           56.53996                         \n",
       "3                                           58.47344                         \n",
       "4                                           60.40692                         \n",
       "\n",
       "   Population using at least basic sanitation services (%) (SDG 6.2.1)  \\\n",
       "0                                           18.19808                     \n",
       "1                                           20.98235                     \n",
       "2                                           19.74519                     \n",
       "3                                           24.10033                     \n",
       "4                                           25.66624                     \n",
       "\n",
       "   Proportion of handwashing facility on premises with soap and water (SDG 6.2.1)  \\\n",
       "0                                                NaN                                \n",
       "1                                                NaN                                \n",
       "2                                                NaN                                \n",
       "3                                                NaN                                \n",
       "4                                                NaN                                \n",
       "\n",
       "   Proportion of population below the international poverty line (SDG 1.1.1 )  \\\n",
       "0                                                NaN                            \n",
       "1                                                NaN                            \n",
       "2                                                NaN                            \n",
       "3                                                NaN                            \n",
       "4                                                NaN                            \n",
       "\n",
       "   Proportion of population using improved sanitation facilities (excluding shared)  \\\n",
       "0                                               19.0                                  \n",
       "1                                               19.0                                  \n",
       "2                                                1.0                                  \n",
       "3                                               24.0                                  \n",
       "4                                                2.0                                  \n",
       "\n",
       "   Proportion of population using improved water supplies  \n",
       "0                                               28.0       \n",
       "1                                               17.0       \n",
       "2                                               16.0       \n",
       "3                                               41.0       \n",
       "4                                               18.0       "
      ]
     },
     "execution_count": 171,
     "metadata": {},
     "output_type": "execute_result"
    }
   ],
   "source": [
    "df3_wide = (df3.pivot_table(index=['Country', 'Year', 'WHO region', 'World bank income group'], \n",
    "                      columns='Indicator', \n",
    "                      values='Value Numeric', \n",
    "                      aggfunc='first')\n",
    "        .reset_index()\n",
    "        .rename_axis(None, axis=1))\n",
    "df3_wide.head()"
   ]
  },
  {
   "cell_type": "code",
   "execution_count": 172,
   "id": "1b83a5a0-8f4d-4e16-8533-59c125d6fd1a",
   "metadata": {},
   "outputs": [
    {
     "data": {
      "text/html": [
       "<div>\n",
       "<style scoped>\n",
       "    .dataframe tbody tr th:only-of-type {\n",
       "        vertical-align: middle;\n",
       "    }\n",
       "\n",
       "    .dataframe tbody tr th {\n",
       "        vertical-align: top;\n",
       "    }\n",
       "\n",
       "    .dataframe thead th {\n",
       "        text-align: right;\n",
       "    }\n",
       "</style>\n",
       "<table border=\"1\" class=\"dataframe\">\n",
       "  <thead>\n",
       "    <tr style=\"text-align: right;\">\n",
       "      <th></th>\n",
       "      <th>Country</th>\n",
       "      <th>Year</th>\n",
       "      <th>WHO region</th>\n",
       "      <th>World bank income group</th>\n",
       "      <th>Maternal mortality ratio</th>\n",
       "      <th>Basic drinking water access</th>\n",
       "      <th>Basic sanitation access</th>\n",
       "      <th>Soap and water onsite access</th>\n",
       "      <th>Population below intl poverty line</th>\n",
       "      <th>Improved sanitation access</th>\n",
       "      <th>Improved water access</th>\n",
       "    </tr>\n",
       "  </thead>\n",
       "  <tbody>\n",
       "    <tr>\n",
       "      <th>0</th>\n",
       "      <td>Afghanistan</td>\n",
       "      <td>2000</td>\n",
       "      <td>Eastern Mediterranean</td>\n",
       "      <td>Low income</td>\n",
       "      <td>1346.14410</td>\n",
       "      <td>19.74518</td>\n",
       "      <td>18.19808</td>\n",
       "      <td>NaN</td>\n",
       "      <td>NaN</td>\n",
       "      <td>19.0</td>\n",
       "      <td>28.0</td>\n",
       "    </tr>\n",
       "    <tr>\n",
       "      <th>1</th>\n",
       "      <td>Afghanistan</td>\n",
       "      <td>2001</td>\n",
       "      <td>Eastern Mediterranean</td>\n",
       "      <td>Low income</td>\n",
       "      <td>1273.43134</td>\n",
       "      <td>54.60648</td>\n",
       "      <td>20.98235</td>\n",
       "      <td>NaN</td>\n",
       "      <td>NaN</td>\n",
       "      <td>19.0</td>\n",
       "      <td>17.0</td>\n",
       "    </tr>\n",
       "    <tr>\n",
       "      <th>2</th>\n",
       "      <td>Afghanistan</td>\n",
       "      <td>2002</td>\n",
       "      <td>Eastern Mediterranean</td>\n",
       "      <td>Low income</td>\n",
       "      <td>1277.30797</td>\n",
       "      <td>56.53996</td>\n",
       "      <td>19.74519</td>\n",
       "      <td>NaN</td>\n",
       "      <td>NaN</td>\n",
       "      <td>1.0</td>\n",
       "      <td>16.0</td>\n",
       "    </tr>\n",
       "    <tr>\n",
       "      <th>3</th>\n",
       "      <td>Afghanistan</td>\n",
       "      <td>2003</td>\n",
       "      <td>Eastern Mediterranean</td>\n",
       "      <td>Low income</td>\n",
       "      <td>1196.09069</td>\n",
       "      <td>58.47344</td>\n",
       "      <td>24.10033</td>\n",
       "      <td>NaN</td>\n",
       "      <td>NaN</td>\n",
       "      <td>24.0</td>\n",
       "      <td>41.0</td>\n",
       "    </tr>\n",
       "    <tr>\n",
       "      <th>4</th>\n",
       "      <td>Afghanistan</td>\n",
       "      <td>2004</td>\n",
       "      <td>Eastern Mediterranean</td>\n",
       "      <td>Low income</td>\n",
       "      <td>1114.88723</td>\n",
       "      <td>60.40692</td>\n",
       "      <td>25.66624</td>\n",
       "      <td>NaN</td>\n",
       "      <td>NaN</td>\n",
       "      <td>2.0</td>\n",
       "      <td>18.0</td>\n",
       "    </tr>\n",
       "  </tbody>\n",
       "</table>\n",
       "</div>"
      ],
      "text/plain": [
       "       Country  Year             WHO region World bank income group  \\\n",
       "0  Afghanistan  2000  Eastern Mediterranean              Low income   \n",
       "1  Afghanistan  2001  Eastern Mediterranean              Low income   \n",
       "2  Afghanistan  2002  Eastern Mediterranean              Low income   \n",
       "3  Afghanistan  2003  Eastern Mediterranean              Low income   \n",
       "4  Afghanistan  2004  Eastern Mediterranean              Low income   \n",
       "\n",
       "   Maternal mortality ratio  Basic drinking water access  \\\n",
       "0                1346.14410                     19.74518   \n",
       "1                1273.43134                     54.60648   \n",
       "2                1277.30797                     56.53996   \n",
       "3                1196.09069                     58.47344   \n",
       "4                1114.88723                     60.40692   \n",
       "\n",
       "   Basic sanitation access  Soap and water onsite access  \\\n",
       "0                 18.19808                           NaN   \n",
       "1                 20.98235                           NaN   \n",
       "2                 19.74519                           NaN   \n",
       "3                 24.10033                           NaN   \n",
       "4                 25.66624                           NaN   \n",
       "\n",
       "   Population below intl poverty line  Improved sanitation access  \\\n",
       "0                                 NaN                        19.0   \n",
       "1                                 NaN                        19.0   \n",
       "2                                 NaN                         1.0   \n",
       "3                                 NaN                        24.0   \n",
       "4                                 NaN                         2.0   \n",
       "\n",
       "   Improved water access  \n",
       "0                   28.0  \n",
       "1                   17.0  \n",
       "2                   16.0  \n",
       "3                   41.0  \n",
       "4                   18.0  "
      ]
     },
     "execution_count": 172,
     "metadata": {},
     "output_type": "execute_result"
    }
   ],
   "source": [
    "df3_wide = df3_wide.rename(columns={'Maternal mortality ratio (per 100 000 live births) (SDG 3.1.1)':'Maternal mortality ratio',\n",
    "                                  'Population using at least basic drinking-water services (%) (SDG 6.1.1)':'Basic drinking water access',\n",
    "                                  'Population using at least basic sanitation services (%) (SDG 6.2.1)':'Basic sanitation access',\n",
    "                                  'Proportion of handwashing facility on premises with soap and water (SDG 6.2.1)':'Soap and water onsite access',\n",
    "                                  'Proportion of population below the international poverty line (SDG 1.1.1 )':'Population below intl poverty line',\n",
    "                                  'Proportion of population using improved sanitation facilities (excluding shared)':'Improved sanitation access',\n",
    "                                  'Proportion of population using improved water supplies':'Improved water access'})\n",
    "df3_wide.head()"
   ]
  },
  {
   "cell_type": "code",
   "execution_count": 173,
   "id": "463d32ce-a491-43a4-9bc2-35fe1bc960a0",
   "metadata": {},
   "outputs": [
    {
     "data": {
      "text/plain": [
       "4357"
      ]
     },
     "execution_count": 173,
     "metadata": {},
     "output_type": "execute_result"
    }
   ],
   "source": [
    "len(df3_wide)"
   ]
  },
  {
   "cell_type": "code",
   "execution_count": 174,
   "id": "04175eb1-1ab6-47c6-945b-bb61d4d7ea46",
   "metadata": {},
   "outputs": [
    {
     "data": {
      "text/html": [
       "<div>\n",
       "<style scoped>\n",
       "    .dataframe tbody tr th:only-of-type {\n",
       "        vertical-align: middle;\n",
       "    }\n",
       "\n",
       "    .dataframe tbody tr th {\n",
       "        vertical-align: top;\n",
       "    }\n",
       "\n",
       "    .dataframe thead th {\n",
       "        text-align: right;\n",
       "    }\n",
       "</style>\n",
       "<table border=\"1\" class=\"dataframe\">\n",
       "  <thead>\n",
       "    <tr style=\"text-align: right;\">\n",
       "      <th></th>\n",
       "      <th>Country</th>\n",
       "      <th>Year</th>\n",
       "      <th>WHO region</th>\n",
       "      <th>World bank income group</th>\n",
       "      <th>Antenatal care coverage</th>\n",
       "      <th>Maternal death panel</th>\n",
       "      <th>Maternal mortality ratio</th>\n",
       "      <th>Nonpregnant anemia</th>\n",
       "      <th>Pregnant anemia</th>\n",
       "      <th>Postnatal contact</th>\n",
       "      <th>...</th>\n",
       "      <th>Median age</th>\n",
       "      <th>Skilled health personnel birth</th>\n",
       "      <th>Health facility birth</th>\n",
       "      <th>Iron supplements during pregnancy</th>\n",
       "      <th>Basic drinking water access</th>\n",
       "      <th>Basic sanitation access</th>\n",
       "      <th>Soap and water onsite access</th>\n",
       "      <th>Population below intl poverty line</th>\n",
       "      <th>Improved sanitation access</th>\n",
       "      <th>Improved water access</th>\n",
       "    </tr>\n",
       "  </thead>\n",
       "  <tbody>\n",
       "    <tr>\n",
       "      <th>0</th>\n",
       "      <td>Afghanistan</td>\n",
       "      <td>2000</td>\n",
       "      <td>Eastern Mediterranean</td>\n",
       "      <td>Low income</td>\n",
       "      <td>NaN</td>\n",
       "      <td>NaN</td>\n",
       "      <td>1346.14410</td>\n",
       "      <td>34.2</td>\n",
       "      <td>44.4</td>\n",
       "      <td>NaN</td>\n",
       "      <td>...</td>\n",
       "      <td>14.127</td>\n",
       "      <td>NaN</td>\n",
       "      <td>NaN</td>\n",
       "      <td>NaN</td>\n",
       "      <td>19.74518</td>\n",
       "      <td>18.19808</td>\n",
       "      <td>NaN</td>\n",
       "      <td>NaN</td>\n",
       "      <td>19.0</td>\n",
       "      <td>28.0</td>\n",
       "    </tr>\n",
       "    <tr>\n",
       "      <th>1</th>\n",
       "      <td>Afghanistan</td>\n",
       "      <td>2001</td>\n",
       "      <td>Eastern Mediterranean</td>\n",
       "      <td>Low income</td>\n",
       "      <td>NaN</td>\n",
       "      <td>NaN</td>\n",
       "      <td>1273.43134</td>\n",
       "      <td>34.1</td>\n",
       "      <td>43.9</td>\n",
       "      <td>NaN</td>\n",
       "      <td>...</td>\n",
       "      <td>14.059</td>\n",
       "      <td>NaN</td>\n",
       "      <td>NaN</td>\n",
       "      <td>NaN</td>\n",
       "      <td>54.60648</td>\n",
       "      <td>20.98235</td>\n",
       "      <td>NaN</td>\n",
       "      <td>NaN</td>\n",
       "      <td>19.0</td>\n",
       "      <td>17.0</td>\n",
       "    </tr>\n",
       "    <tr>\n",
       "      <th>2</th>\n",
       "      <td>Afghanistan</td>\n",
       "      <td>2002</td>\n",
       "      <td>Eastern Mediterranean</td>\n",
       "      <td>Low income</td>\n",
       "      <td>NaN</td>\n",
       "      <td>NaN</td>\n",
       "      <td>1277.30797</td>\n",
       "      <td>34.1</td>\n",
       "      <td>43.4</td>\n",
       "      <td>NaN</td>\n",
       "      <td>...</td>\n",
       "      <td>14.025</td>\n",
       "      <td>NaN</td>\n",
       "      <td>NaN</td>\n",
       "      <td>NaN</td>\n",
       "      <td>56.53996</td>\n",
       "      <td>19.74519</td>\n",
       "      <td>NaN</td>\n",
       "      <td>NaN</td>\n",
       "      <td>1.0</td>\n",
       "      <td>16.0</td>\n",
       "    </tr>\n",
       "    <tr>\n",
       "      <th>3</th>\n",
       "      <td>Afghanistan</td>\n",
       "      <td>2003</td>\n",
       "      <td>Eastern Mediterranean</td>\n",
       "      <td>Low income</td>\n",
       "      <td>NaN</td>\n",
       "      <td>NaN</td>\n",
       "      <td>1196.09069</td>\n",
       "      <td>34.2</td>\n",
       "      <td>42.9</td>\n",
       "      <td>NaN</td>\n",
       "      <td>...</td>\n",
       "      <td>14.017</td>\n",
       "      <td>14.3</td>\n",
       "      <td>12.9</td>\n",
       "      <td>NaN</td>\n",
       "      <td>58.47344</td>\n",
       "      <td>24.10033</td>\n",
       "      <td>NaN</td>\n",
       "      <td>NaN</td>\n",
       "      <td>24.0</td>\n",
       "      <td>41.0</td>\n",
       "    </tr>\n",
       "    <tr>\n",
       "      <th>4</th>\n",
       "      <td>Afghanistan</td>\n",
       "      <td>2004</td>\n",
       "      <td>Eastern Mediterranean</td>\n",
       "      <td>Low income</td>\n",
       "      <td>NaN</td>\n",
       "      <td>NaN</td>\n",
       "      <td>1114.88723</td>\n",
       "      <td>34.4</td>\n",
       "      <td>42.4</td>\n",
       "      <td>NaN</td>\n",
       "      <td>...</td>\n",
       "      <td>14.033</td>\n",
       "      <td>NaN</td>\n",
       "      <td>NaN</td>\n",
       "      <td>NaN</td>\n",
       "      <td>60.40692</td>\n",
       "      <td>25.66624</td>\n",
       "      <td>NaN</td>\n",
       "      <td>NaN</td>\n",
       "      <td>2.0</td>\n",
       "      <td>18.0</td>\n",
       "    </tr>\n",
       "  </tbody>\n",
       "</table>\n",
       "<p>5 rows × 29 columns</p>\n",
       "</div>"
      ],
      "text/plain": [
       "       Country  Year             WHO region World bank income group  \\\n",
       "0  Afghanistan  2000  Eastern Mediterranean              Low income   \n",
       "1  Afghanistan  2001  Eastern Mediterranean              Low income   \n",
       "2  Afghanistan  2002  Eastern Mediterranean              Low income   \n",
       "3  Afghanistan  2003  Eastern Mediterranean              Low income   \n",
       "4  Afghanistan  2004  Eastern Mediterranean              Low income   \n",
       "\n",
       "   Antenatal care coverage  Maternal death panel  Maternal mortality ratio  \\\n",
       "0                      NaN                   NaN                1346.14410   \n",
       "1                      NaN                   NaN                1273.43134   \n",
       "2                      NaN                   NaN                1277.30797   \n",
       "3                      NaN                   NaN                1196.09069   \n",
       "4                      NaN                   NaN                1114.88723   \n",
       "\n",
       "   Nonpregnant anemia  Pregnant anemia  Postnatal contact  ...  Median age  \\\n",
       "0                34.2             44.4                NaN  ...      14.127   \n",
       "1                34.1             43.9                NaN  ...      14.059   \n",
       "2                34.1             43.4                NaN  ...      14.025   \n",
       "3                34.2             42.9                NaN  ...      14.017   \n",
       "4                34.4             42.4                NaN  ...      14.033   \n",
       "\n",
       "   Skilled health personnel birth  Health facility birth  \\\n",
       "0                             NaN                    NaN   \n",
       "1                             NaN                    NaN   \n",
       "2                             NaN                    NaN   \n",
       "3                            14.3                   12.9   \n",
       "4                             NaN                    NaN   \n",
       "\n",
       "   Iron supplements during pregnancy  Basic drinking water access  \\\n",
       "0                                NaN                     19.74518   \n",
       "1                                NaN                     54.60648   \n",
       "2                                NaN                     56.53996   \n",
       "3                                NaN                     58.47344   \n",
       "4                                NaN                     60.40692   \n",
       "\n",
       "   Basic sanitation access  Soap and water onsite access  \\\n",
       "0                 18.19808                           NaN   \n",
       "1                 20.98235                           NaN   \n",
       "2                 19.74519                           NaN   \n",
       "3                 24.10033                           NaN   \n",
       "4                 25.66624                           NaN   \n",
       "\n",
       "   Population below intl poverty line  Improved sanitation access  \\\n",
       "0                                 NaN                        19.0   \n",
       "1                                 NaN                        19.0   \n",
       "2                                 NaN                         1.0   \n",
       "3                                 NaN                        24.0   \n",
       "4                                 NaN                         2.0   \n",
       "\n",
       "   Improved water access  \n",
       "0                   28.0  \n",
       "1                   17.0  \n",
       "2                   16.0  \n",
       "3                   41.0  \n",
       "4                   18.0  \n",
       "\n",
       "[5 rows x 29 columns]"
      ]
     },
     "execution_count": 174,
     "metadata": {},
     "output_type": "execute_result"
    }
   ],
   "source": [
    "# Merging our 3 dfs\n",
    "dfs = [df_wide, df2_wide, df3_wide]\n",
    "from functools import reduce\n",
    "df0 = reduce(lambda left, right: pd.merge(left, right, on=['Country', 'Year', 'WHO region', 'World bank income group', 'Maternal mortality ratio'],\n",
    "                                            how='outer'), dfs)\n",
    "df0.head()"
   ]
  },
  {
   "cell_type": "code",
   "execution_count": 175,
   "id": "d1728994-8c5f-424b-95e8-39b73e36d44e",
   "metadata": {},
   "outputs": [
    {
     "data": {
      "text/plain": [
       "4410"
      ]
     },
     "execution_count": 175,
     "metadata": {},
     "output_type": "execute_result"
    }
   ],
   "source": [
    "len(df0)"
   ]
  },
  {
   "cell_type": "code",
   "execution_count": 176,
   "id": "dfd5c807-1601-4f03-a1da-0fe8ea09c2a9",
   "metadata": {},
   "outputs": [],
   "source": [
    "dfcorr = df0.drop(['Country', 'Year', 'WHO region', 'World bank income group'], axis='columns')"
   ]
  },
  {
   "cell_type": "code",
   "execution_count": 177,
   "id": "11a86889-c9a4-4e23-8255-bb2d3f2c0d8a",
   "metadata": {},
   "outputs": [
    {
     "data": {
      "text/plain": [
       "Antenatal care coverage               float64\n",
       "Maternal death panel                  float64\n",
       "Maternal mortality ratio              float64\n",
       "Nonpregnant anemia                    float64\n",
       "Pregnant anemia                       float64\n",
       "Postnatal contact                     float64\n",
       "Syphilis test during pregnancy        float64\n",
       "Modern family planning                float64\n",
       "Birth sex ratio m to f                float64\n",
       "Total fertility rate                  float64\n",
       "Contraceptive prevalence              float64\n",
       "Crude death rate                      float64\n",
       "Maternal spending per capita          float64\n",
       "Reproductive spending per capita      float64\n",
       "Contraceptive spending per capita     float64\n",
       "Median age                            float64\n",
       "Skilled health personnel birth        float64\n",
       "Health facility birth                 float64\n",
       "Iron supplements during pregnancy     float64\n",
       "Basic drinking water access           float64\n",
       "Basic sanitation access               float64\n",
       "Soap and water onsite access          float64\n",
       "Population below intl poverty line    float64\n",
       "Improved sanitation access            float64\n",
       "Improved water access                 float64\n",
       "dtype: object"
      ]
     },
     "execution_count": 177,
     "metadata": {},
     "output_type": "execute_result"
    }
   ],
   "source": [
    "dfcorr.dtypes"
   ]
  },
  {
   "cell_type": "code",
   "execution_count": 178,
   "id": "56a4b89c-d730-49fa-87ed-2efb883a155a",
   "metadata": {},
   "outputs": [],
   "source": [
    "dfcorr = dfcorr.convert_dtypes(convert_floating=True)"
   ]
  },
  {
   "cell_type": "code",
   "execution_count": 179,
   "id": "169299f1-9029-48a7-b47c-2520afba2b6e",
   "metadata": {},
   "outputs": [
    {
     "data": {
      "text/plain": [
       "Antenatal care coverage               Float64\n",
       "Maternal death panel                    Int64\n",
       "Maternal mortality ratio              Float64\n",
       "Nonpregnant anemia                    Float64\n",
       "Pregnant anemia                       Float64\n",
       "Postnatal contact                     Float64\n",
       "Syphilis test during pregnancy        Float64\n",
       "Modern family planning                Float64\n",
       "Birth sex ratio m to f                Float64\n",
       "Total fertility rate                  Float64\n",
       "Contraceptive prevalence              Float64\n",
       "Crude death rate                      Float64\n",
       "Maternal spending per capita          Float64\n",
       "Reproductive spending per capita      Float64\n",
       "Contraceptive spending per capita     Float64\n",
       "Median age                            Float64\n",
       "Skilled health personnel birth        Float64\n",
       "Health facility birth                 Float64\n",
       "Iron supplements during pregnancy     Float64\n",
       "Basic drinking water access           Float64\n",
       "Basic sanitation access               Float64\n",
       "Soap and water onsite access          Float64\n",
       "Population below intl poverty line    Float64\n",
       "Improved sanitation access              Int64\n",
       "Improved water access                   Int64\n",
       "dtype: object"
      ]
     },
     "execution_count": 179,
     "metadata": {},
     "output_type": "execute_result"
    }
   ],
   "source": [
    "dfcorr.dtypes"
   ]
  },
  {
   "cell_type": "markdown",
   "id": "eea3de2f-2fe1-4784-bdb8-3cd46631651d",
   "metadata": {},
   "source": [
    "### Initial statistical exploration"
   ]
  },
  {
   "cell_type": "code",
   "execution_count": 180,
   "id": "3b220425-dfe2-4700-bf3b-340059555754",
   "metadata": {},
   "outputs": [
    {
     "data": {
      "image/png": "[encoded data removed]",
      "text/plain": [
       "<Figure size 500x500 with 1 Axes>"
      ]
     },
     "metadata": {},
     "output_type": "display_data"
    }
   ],
   "source": [
    "sns.displot(df0['Maternal mortality ratio'], bins=20)\n",
    "plt.show()"
   ]
  },
  {
   "cell_type": "code",
   "execution_count": 219,
   "id": "ba2eb1d1-927c-405e-a84b-25751ae2465d",
   "metadata": {},
   "outputs": [
    {
     "data": {
      "image/png": "[encoded data removed]",
      "text/plain": [
       "<Figure size 1000x1000 with 25 Axes>"
      ]
     },
     "metadata": {},
     "output_type": "display_data"
    }
   ],
   "source": [
    "corrarray = dfcorr.hist()\n",
    "[x.title.set_size(8) for x in corrarray.ravel()]\n",
    "plt.tight_layout()\n",
    "plt.show()\n",
    "# Nothing is normally distributed"
   ]
  },
  {
   "cell_type": "code",
   "execution_count": 285,
   "id": "f2d97341-3d1e-40b8-b4a2-b5fe0e18f48d",
   "metadata": {},
   "outputs": [
    {
     "data": {
      "image/png": "[encoded data removed]",
      "text/plain": [
       "<Figure size 1000x1000 with 2 Axes>"
      ]
     },
     "metadata": {},
     "output_type": "display_data"
    }
   ],
   "source": [
    "sns.set(rc={'figure.figsize':(10, 10)})\n",
    "matrix = dfcorr.corr(method='kendall').round(2)\n",
    "# Chose Kendall method over the default Pearson due to none of the data being normally distributed\n",
    "plt_1 = sns.heatmap(matrix, annot=False, cmap=plt.get_cmap('RdYlGn'))\n",
    "# I ended up not wanting the corr coefficients in the heatmap: `annot=True, annot_kws={\"size\": 8}, `\n",
    "# plt_1 = plt.figure(figsize=(15, 15))\n",
    "plt.axvline(x=2, linewidth=2, color='w')\n",
    "plt.axvline(x=3, linewidth=2, color='w')\n",
    "plt.axhline(y=0, xmin=0.08, xmax=0.12, linewidth=2, color='w')\n",
    "plt.axhline(y=25, xmin=0.08, xmax=0.12, linewidth=2, color='w')\n",
    "plt.axhline(y=2, linewidth=2, color='w')\n",
    "plt.axhline(y=3, linewidth=2, color='w')\n",
    "plt.axvline(x=0, ymin=0.88, ymax=0.92, linewidth=2, color='w')\n",
    "plt.axvline(x=25, ymin=0.88, ymax=0.92, linewidth=2, color='w')\n",
    "plt.show()"
   ]
  },
  {
   "cell_type": "markdown",
   "id": "49663968-e595-42e7-aa14-9705f2cae3f2",
   "metadata": {},
   "source": [
    "I've highlighted the maternal mortality ratio squares with a white border. There is a hole for maternal death panel and birth sex ratio because birth sex ratio was only polled every 5 years on years divisible by 5 and maternal death panel was only taken in 2018.\n",
    "\n",
    "Parallels can be seen between maternal mortality ratio, nonpregnant anemia, pregnant anemia, total fertility rate, and population below the int'l poverty line, implying that they share a similar relationship to the other indicators.\n",
    "\n",
    "Similarly, maternal mortality ratio colors seem to be the inverse of antenatal care coverage, postnatal contact, syphilis test during pregnancy, modern family planning, contraceptive prevalence, median age, skilled health personnel (during) birth, health facility birth, basic drinking water access, basic sanitation access, and soap and water onsite access.\n",
    "\n",
    "Similar can also be said about maternal death panel, birth sex ratio, maternal spending per capita, reproductive spending per capita, contraceptive spending per capita, improved sanitation access, and improved water access, but these seem to be a lot weaker in their relationships to the other indicators.\n",
    "\n",
    "Let's look at the p-values of the correlations with maternal mortality ratio. The default method for `pd.DataFrame.corr()` is Pearson, but I chose to use Kendall's Tau due to the data being mostly nonnormal, so let's proceed with Kendall's method. `scipy.stats.kendalltau()` also has the added bonus of being able to support `NaN` values via the `nan_policy` parameter. I want to stick to a significance level of 0.001 due to the size of the sample regardless of omission[[6](https://mpra.ub.uni-muenchen.de/66373/1/MPRA_paper_66373.pdf)][[7](https://www.ncbi.nlm.nih.gov/pmc/articles/PMC6314595/)]."
   ]
  },
  {
   "cell_type": "code",
   "execution_count": 281,
   "id": "b233718f-f32e-4059-9edf-d8762268f3ef",
   "metadata": {},
   "outputs": [
    {
     "data": {
      "text/plain": [
       "SignificanceResult(statistic=-0.546736550225711, pvalue=3.2043084476865374e-106)"
      ]
     },
     "execution_count": 281,
     "metadata": {},
     "output_type": "execute_result"
    }
   ],
   "source": [
    "# Omitted pearsonr method\n",
    "#for i in range(len(df0)):\n",
    "#    xl = df0['Maternal mortality ratio'].dropna()\n",
    "#    ya = df0['Antenatal care coverage'].dropna()\n",
    "#    da = pd.concat([xl,ya], axis = 1)\n",
    "#    da = da.dropna()\n",
    "#scipy.stats.pearsonr(da['Maternal mortality ratio'], da['Antenatal care coverage'])"
   ]
  },
  {
   "cell_type": "code",
   "execution_count": 318,
   "id": "e027d666-3f7a-4a3e-9f90-3cad9a36967a",
   "metadata": {},
   "outputs": [
    {
     "data": {
      "text/plain": [
       "SignificanceResult(statistic=-0.546736550225711, pvalue=3.2043084476865374e-106)"
      ]
     },
     "execution_count": 318,
     "metadata": {},
     "output_type": "execute_result"
    }
   ],
   "source": [
    "scipy.stats.kendalltau(df0['Maternal mortality ratio'], df0['Antenatal care coverage'], nan_policy='omit')"
   ]
  },
  {
   "cell_type": "code",
   "execution_count": 289,
   "id": "7e6f5874-b285-4549-adf8-0f09657da6ba",
   "metadata": {},
   "outputs": [
    {
     "data": {
      "text/plain": [
       "SignificanceResult(statistic=0.1438961910725818, pvalue=0.02811216862761311)"
      ]
     },
     "execution_count": 289,
     "metadata": {},
     "output_type": "execute_result"
    }
   ],
   "source": [
    "scipy.stats.kendalltau(df0['Maternal mortality ratio'], df0['Maternal death panel'], nan_policy='omit')\n",
    "# No valuable correlation"
   ]
  },
  {
   "cell_type": "code",
   "execution_count": 290,
   "id": "83278900-6c27-42f4-b179-9ea2277186c7",
   "metadata": {},
   "outputs": [
    {
     "data": {
      "text/plain": [
       "SignificanceResult(statistic=0.5520944474684905, pvalue=0.0)"
      ]
     },
     "execution_count": 290,
     "metadata": {},
     "output_type": "execute_result"
    }
   ],
   "source": [
    "scipy.stats.kendalltau(df0['Maternal mortality ratio'], df0['Nonpregnant anemia'], nan_policy='omit')"
   ]
  },
  {
   "cell_type": "code",
   "execution_count": 291,
   "id": "28b55f5f-5572-4f25-8172-c49245756796",
   "metadata": {},
   "outputs": [
    {
     "data": {
      "text/html": [
       "<div>\n",
       "<style scoped>\n",
       "    .dataframe tbody tr th:only-of-type {\n",
       "        vertical-align: middle;\n",
       "    }\n",
       "\n",
       "    .dataframe tbody tr th {\n",
       "        vertical-align: top;\n",
       "    }\n",
       "\n",
       "    .dataframe thead th {\n",
       "        text-align: right;\n",
       "    }\n",
       "</style>\n",
       "<table border=\"1\" class=\"dataframe\">\n",
       "  <thead>\n",
       "    <tr style=\"text-align: right;\">\n",
       "      <th></th>\n",
       "      <th>Maternal mortality ratio</th>\n",
       "      <th>Nonpregnant anemia</th>\n",
       "    </tr>\n",
       "  </thead>\n",
       "  <tbody>\n",
       "    <tr>\n",
       "      <th>0</th>\n",
       "      <td>1346.14410</td>\n",
       "      <td>34.2</td>\n",
       "    </tr>\n",
       "    <tr>\n",
       "      <th>1</th>\n",
       "      <td>1273.43134</td>\n",
       "      <td>34.1</td>\n",
       "    </tr>\n",
       "    <tr>\n",
       "      <th>2</th>\n",
       "      <td>1277.30797</td>\n",
       "      <td>34.1</td>\n",
       "    </tr>\n",
       "    <tr>\n",
       "      <th>3</th>\n",
       "      <td>1196.09069</td>\n",
       "      <td>34.2</td>\n",
       "    </tr>\n",
       "    <tr>\n",
       "      <th>4</th>\n",
       "      <td>1114.88723</td>\n",
       "      <td>34.4</td>\n",
       "    </tr>\n",
       "    <tr>\n",
       "      <th>5</th>\n",
       "      <td>1102.80976</td>\n",
       "      <td>34.7</td>\n",
       "    </tr>\n",
       "    <tr>\n",
       "      <th>6</th>\n",
       "      <td>1044.40033</td>\n",
       "      <td>35.0</td>\n",
       "    </tr>\n",
       "    <tr>\n",
       "      <th>7</th>\n",
       "      <td>1023.49547</td>\n",
       "      <td>35.3</td>\n",
       "    </tr>\n",
       "    <tr>\n",
       "      <th>8</th>\n",
       "      <td>962.32152</td>\n",
       "      <td>35.6</td>\n",
       "    </tr>\n",
       "    <tr>\n",
       "      <th>9</th>\n",
       "      <td>913.03576</td>\n",
       "      <td>36.0</td>\n",
       "    </tr>\n",
       "  </tbody>\n",
       "</table>\n",
       "</div>"
      ],
      "text/plain": [
       "   Maternal mortality ratio  Nonpregnant anemia\n",
       "0                1346.14410                34.2\n",
       "1                1273.43134                34.1\n",
       "2                1277.30797                34.1\n",
       "3                1196.09069                34.2\n",
       "4                1114.88723                34.4\n",
       "5                1102.80976                34.7\n",
       "6                1044.40033                35.0\n",
       "7                1023.49547                35.3\n",
       "8                 962.32152                35.6\n",
       "9                 913.03576                36.0"
      ]
     },
     "execution_count": 291,
     "metadata": {},
     "output_type": "execute_result"
    }
   ],
   "source": [
    "# Concern for p-value of 0.0 leads to investigation\n",
    "for i in range(len(df0)):\n",
    "    xl = df0['Maternal mortality ratio'].dropna()\n",
    "    yl = df0['Nonpregnant anemia'].dropna()\n",
    "    dl = pd.concat([xl,yl], axis = 1)\n",
    "    dl = dl.dropna()\n",
    "dl.head(10)"
   ]
  },
  {
   "cell_type": "code",
   "execution_count": 292,
   "id": "a373a867-0286-4047-bd4c-8f0331007c8a",
   "metadata": {},
   "outputs": [
    {
     "data": {
      "text/html": [
       "<div>\n",
       "<style scoped>\n",
       "    .dataframe tbody tr th:only-of-type {\n",
       "        vertical-align: middle;\n",
       "    }\n",
       "\n",
       "    .dataframe tbody tr th {\n",
       "        vertical-align: top;\n",
       "    }\n",
       "\n",
       "    .dataframe thead th {\n",
       "        text-align: right;\n",
       "    }\n",
       "</style>\n",
       "<table border=\"1\" class=\"dataframe\">\n",
       "  <thead>\n",
       "    <tr style=\"text-align: right;\">\n",
       "      <th></th>\n",
       "      <th>Maternal mortality ratio</th>\n",
       "      <th>Nonpregnant anemia</th>\n",
       "    </tr>\n",
       "  </thead>\n",
       "  <tbody>\n",
       "    <tr>\n",
       "      <th>4378</th>\n",
       "      <td>618.32971</td>\n",
       "      <td>30.6</td>\n",
       "    </tr>\n",
       "    <tr>\n",
       "      <th>4379</th>\n",
       "      <td>562.12072</td>\n",
       "      <td>30.1</td>\n",
       "    </tr>\n",
       "    <tr>\n",
       "      <th>4380</th>\n",
       "      <td>527.61644</td>\n",
       "      <td>29.7</td>\n",
       "    </tr>\n",
       "    <tr>\n",
       "      <th>4381</th>\n",
       "      <td>495.25712</td>\n",
       "      <td>29.3</td>\n",
       "    </tr>\n",
       "    <tr>\n",
       "      <th>4382</th>\n",
       "      <td>440.85211</td>\n",
       "      <td>29.0</td>\n",
       "    </tr>\n",
       "    <tr>\n",
       "      <th>4383</th>\n",
       "      <td>408.11898</td>\n",
       "      <td>28.8</td>\n",
       "    </tr>\n",
       "    <tr>\n",
       "      <th>4384</th>\n",
       "      <td>399.75752</td>\n",
       "      <td>28.7</td>\n",
       "    </tr>\n",
       "    <tr>\n",
       "      <th>4385</th>\n",
       "      <td>366.38103</td>\n",
       "      <td>28.6</td>\n",
       "    </tr>\n",
       "    <tr>\n",
       "      <th>4386</th>\n",
       "      <td>358.50350</td>\n",
       "      <td>28.6</td>\n",
       "    </tr>\n",
       "    <tr>\n",
       "      <th>4387</th>\n",
       "      <td>393.17629</td>\n",
       "      <td>28.7</td>\n",
       "    </tr>\n",
       "  </tbody>\n",
       "</table>\n",
       "</div>"
      ],
      "text/plain": [
       "      Maternal mortality ratio  Nonpregnant anemia\n",
       "4378                 618.32971                30.6\n",
       "4379                 562.12072                30.1\n",
       "4380                 527.61644                29.7\n",
       "4381                 495.25712                29.3\n",
       "4382                 440.85211                29.0\n",
       "4383                 408.11898                28.8\n",
       "4384                 399.75752                28.7\n",
       "4385                 366.38103                28.6\n",
       "4386                 358.50350                28.6\n",
       "4387                 393.17629                28.7"
      ]
     },
     "execution_count": 292,
     "metadata": {},
     "output_type": "execute_result"
    }
   ],
   "source": [
    "# Looks normal.\n",
    "dl.tail(10)"
   ]
  },
  {
   "cell_type": "markdown",
   "id": "7df74b0d-194e-4e6d-9ae3-ba6795630963",
   "metadata": {},
   "source": [
    "I was concerned that a p-value of 0.0 was an error at first, but upon further reading I found that a value can be so low that Python cannot distinguish it from floating value 0.0. This happens at numbers below 7.1429666685167604e-293 and can easily be produced if the number of points is above 1000[[8](https://stackoverflow.com/questions/20530138/scipy-p-value-returns-0-0)]."
   ]
  },
  {
   "cell_type": "code",
   "execution_count": 296,
   "id": "83537abb-0b23-4156-8b30-77486aadf747",
   "metadata": {},
   "outputs": [
    {
     "data": {
      "text/plain": [
       "SignificanceResult(statistic=0.5938136940207647, pvalue=0.0)"
      ]
     },
     "execution_count": 296,
     "metadata": {},
     "output_type": "execute_result"
    }
   ],
   "source": [
    "scipy.stats.kendalltau(df0['Maternal mortality ratio'], df0['Pregnant anemia'], nan_policy='omit')"
   ]
  },
  {
   "cell_type": "code",
   "execution_count": 297,
   "id": "f406cb8b-0a6f-4fd4-8296-7750a9118b1e",
   "metadata": {},
   "outputs": [
    {
     "data": {
      "text/plain": [
       "SignificanceResult(statistic=-0.4799295444421585, pvalue=3.050147001853348e-23)"
      ]
     },
     "execution_count": 297,
     "metadata": {},
     "output_type": "execute_result"
    }
   ],
   "source": [
    "scipy.stats.kendalltau(df0['Maternal mortality ratio'], df0['Postnatal contact'], nan_policy='omit')"
   ]
  },
  {
   "cell_type": "code",
   "execution_count": 298,
   "id": "18dbec60-f26a-4b91-bb99-c1b84f873371",
   "metadata": {},
   "outputs": [
    {
     "data": {
      "text/plain": [
       "SignificanceResult(statistic=-0.4536121163324332, pvalue=5.269056730853732e-72)"
      ]
     },
     "execution_count": 298,
     "metadata": {},
     "output_type": "execute_result"
    }
   ],
   "source": [
    "scipy.stats.kendalltau(df0['Maternal mortality ratio'], df0['Syphilis test during pregnancy'], nan_policy='omit')"
   ]
  },
  {
   "cell_type": "code",
   "execution_count": 299,
   "id": "ebd6e25b-e312-4725-93b4-300929ae426c",
   "metadata": {},
   "outputs": [
    {
     "data": {
      "text/plain": [
       "SignificanceResult(statistic=-0.381471998855956, pvalue=1.6078742744179513e-267)"
      ]
     },
     "execution_count": 299,
     "metadata": {},
     "output_type": "execute_result"
    }
   ],
   "source": [
    "scipy.stats.kendalltau(df0['Maternal mortality ratio'], df0['Modern family planning'], nan_policy='omit')"
   ]
  },
  {
   "cell_type": "code",
   "execution_count": 300,
   "id": "2795bf0c-7d8a-45dc-adad-c1f73f38f4d8",
   "metadata": {},
   "outputs": [
    {
     "data": {
      "text/plain": [
       "SignificanceResult(statistic=-0.3320678392862086, pvalue=1.4477993744504601e-50)"
      ]
     },
     "execution_count": 300,
     "metadata": {},
     "output_type": "execute_result"
    }
   ],
   "source": [
    "scipy.stats.kendalltau(df0['Maternal mortality ratio'], df0['Birth sex ratio m to f'], nan_policy='omit')"
   ]
  },
  {
   "cell_type": "code",
   "execution_count": 301,
   "id": "dd8a0790-728e-4e06-b68e-a15f83b9c47d",
   "metadata": {},
   "outputs": [
    {
     "data": {
      "text/plain": [
       "SignificanceResult(statistic=0.6333881118948413, pvalue=0.0)"
      ]
     },
     "execution_count": 301,
     "metadata": {},
     "output_type": "execute_result"
    }
   ],
   "source": [
    "scipy.stats.kendalltau(df0['Maternal mortality ratio'], df0['Total fertility rate'], nan_policy='omit')"
   ]
  },
  {
   "cell_type": "code",
   "execution_count": 302,
   "id": "0f085d4c-ba24-4343-b4d3-c9bbe1f1888f",
   "metadata": {},
   "outputs": [
    {
     "data": {
      "text/plain": [
       "SignificanceResult(statistic=-0.41411010526585684, pvalue=0.0)"
      ]
     },
     "execution_count": 302,
     "metadata": {},
     "output_type": "execute_result"
    }
   ],
   "source": [
    "scipy.stats.kendalltau(df0['Maternal mortality ratio'], df0['Contraceptive prevalence'], nan_policy='omit')"
   ]
  },
  {
   "cell_type": "code",
   "execution_count": 303,
   "id": "5df41e30-3451-4d77-a86e-53b043f1a9f4",
   "metadata": {},
   "outputs": [
    {
     "data": {
      "text/plain": [
       "SignificanceResult(statistic=0.13008827416064342, pvalue=7.92354157700787e-34)"
      ]
     },
     "execution_count": 303,
     "metadata": {},
     "output_type": "execute_result"
    }
   ],
   "source": [
    "scipy.stats.kendalltau(df0['Maternal mortality ratio'], df0['Crude death rate'], nan_policy='omit')"
   ]
  },
  {
   "cell_type": "code",
   "execution_count": 304,
   "id": "14792d1e-ed89-4b07-99e0-a99018c4a6c3",
   "metadata": {},
   "outputs": [
    {
     "data": {
      "text/plain": [
       "SignificanceResult(statistic=-0.2486294298631048, pvalue=8.180011191720935e-11)"
      ]
     },
     "execution_count": 304,
     "metadata": {},
     "output_type": "execute_result"
    }
   ],
   "source": [
    "scipy.stats.kendalltau(df0['Maternal mortality ratio'], df0['Maternal spending per capita'], nan_policy='omit')"
   ]
  },
  {
   "cell_type": "code",
   "execution_count": 305,
   "id": "2a6cdc72-16e4-4aad-9184-728fe7bfe4b7",
   "metadata": {},
   "outputs": [
    {
     "data": {
      "text/plain": [
       "SignificanceResult(statistic=-0.13864609103495426, pvalue=0.00023659100266533876)"
      ]
     },
     "execution_count": 305,
     "metadata": {},
     "output_type": "execute_result"
    }
   ],
   "source": [
    "scipy.stats.kendalltau(df0['Maternal mortality ratio'], df0['Reproductive spending per capita'], nan_policy='omit')\n",
    "# P-value of 0.0002 is likely fine. Lowest alpha used is typically 0.001. Let's look at the sample size anyways to see if an alpha of 0.001 is reasonable."
   ]
  },
  {
   "cell_type": "code",
   "execution_count": 319,
   "id": "941e11b0-495b-4f58-8e93-e1321ee39e2d",
   "metadata": {},
   "outputs": [
    {
     "data": {
      "text/plain": [
       "(316, 2)"
      ]
     },
     "execution_count": 319,
     "metadata": {},
     "output_type": "execute_result"
    }
   ],
   "source": [
    "for i in range(len(df0)):\n",
    "    xl = df0['Maternal mortality ratio'].dropna()\n",
    "    yl = df0['Reproductive spending per capita'].dropna()\n",
    "    dl = pd.concat([xl,yl], axis = 1)\n",
    "    dl = dl.dropna()\n",
    "dl.shape\n",
    "# It seems that the sample size is 316; alpha of 0.001 is reasonable and correlation falls within range of significance and statistical consideration"
   ]
  },
  {
   "cell_type": "code",
   "execution_count": 306,
   "id": "0b1100ae-9f3d-48c3-874e-cef2ef318549",
   "metadata": {},
   "outputs": [
    {
     "data": {
      "text/plain": [
       "SignificanceResult(statistic=0.0005547613974645393, pvalue=0.9885680185767869)"
      ]
     },
     "execution_count": 306,
     "metadata": {},
     "output_type": "execute_result"
    }
   ],
   "source": [
    "scipy.stats.kendalltau(df0['Maternal mortality ratio'], df0['Contraceptive spending per capita'], nan_policy='omit')\n",
    "# Not significant"
   ]
  },
  {
   "cell_type": "code",
   "execution_count": 307,
   "id": "964e6e72-77df-4d8a-b193-3d7cb238a869",
   "metadata": {},
   "outputs": [
    {
     "data": {
      "text/plain": [
       "SignificanceResult(statistic=-0.692546897732193, pvalue=0.0)"
      ]
     },
     "execution_count": 307,
     "metadata": {},
     "output_type": "execute_result"
    }
   ],
   "source": [
    "scipy.stats.kendalltau(df0['Maternal mortality ratio'], df0['Median age'], nan_policy='omit')"
   ]
  },
  {
   "cell_type": "code",
   "execution_count": 308,
   "id": "fd4041e5-a4b6-4674-92d9-9d430d5f3390",
   "metadata": {},
   "outputs": [
    {
     "data": {
      "text/plain": [
       "SignificanceResult(statistic=-0.4845688140460462, pvalue=1.0294844526390981e-227)"
      ]
     },
     "execution_count": 308,
     "metadata": {},
     "output_type": "execute_result"
    }
   ],
   "source": [
    "scipy.stats.kendalltau(df0['Maternal mortality ratio'], df0['Skilled health personnel birth'], nan_policy='omit')"
   ]
  },
  {
   "cell_type": "code",
   "execution_count": 309,
   "id": "16da3ed3-41aa-49ee-94ac-1bef045942bc",
   "metadata": {},
   "outputs": [
    {
     "data": {
      "text/plain": [
       "SignificanceResult(statistic=-0.5692919299330286, pvalue=2.979431463482761e-159)"
      ]
     },
     "execution_count": 309,
     "metadata": {},
     "output_type": "execute_result"
    }
   ],
   "source": [
    "scipy.stats.kendalltau(df0['Maternal mortality ratio'], df0['Health facility birth'], nan_policy='omit')"
   ]
  },
  {
   "cell_type": "code",
   "execution_count": 310,
   "id": "1a2adacb-ff19-46ab-906b-f07e7db274d1",
   "metadata": {},
   "outputs": [
    {
     "data": {
      "text/plain": [
       "SignificanceResult(statistic=-0.037210972294268264, pvalue=0.45359896286929857)"
      ]
     },
     "execution_count": 310,
     "metadata": {},
     "output_type": "execute_result"
    }
   ],
   "source": [
    "scipy.stats.kendalltau(df0['Maternal mortality ratio'], df0['Iron supplements during pregnancy'], nan_policy='omit')\n",
    "# Not significant. This is not surprising when looking at the heatmap matrix, but surprising given blood loss is a major killer of pregnant women, and anemia is highly correlated to maternal death.\n",
    "# Looking at the heatmap, iron supplements seem to have little correlation to anything, perhaps indicating there is either not substantial enough data, or they have little effect on health outcomes and there are more effective methods."
   ]
  },
  {
   "cell_type": "code",
   "execution_count": 311,
   "id": "e5f68b93-0905-4d99-8149-eb587f823cfc",
   "metadata": {},
   "outputs": [
    {
     "data": {
      "text/plain": [
       "SignificanceResult(statistic=-0.6073569731174678, pvalue=0.0)"
      ]
     },
     "execution_count": 311,
     "metadata": {},
     "output_type": "execute_result"
    }
   ],
   "source": [
    "scipy.stats.kendalltau(df0['Maternal mortality ratio'], df0['Basic drinking water access'], nan_policy='omit')"
   ]
  },
  {
   "cell_type": "code",
   "execution_count": 312,
   "id": "99954843-dfaf-4fc1-b81f-d9b6585cfc24",
   "metadata": {},
   "outputs": [
    {
     "data": {
      "text/plain": [
       "SignificanceResult(statistic=-0.6895488978744141, pvalue=0.0)"
      ]
     },
     "execution_count": 312,
     "metadata": {},
     "output_type": "execute_result"
    }
   ],
   "source": [
    "scipy.stats.kendalltau(df0['Maternal mortality ratio'], df0['Basic sanitation access'], nan_policy='omit')"
   ]
  },
  {
   "cell_type": "code",
   "execution_count": 313,
   "id": "618d9572-74ed-494c-9239-3426c2bb143d",
   "metadata": {},
   "outputs": [
    {
     "data": {
      "text/plain": [
       "SignificanceResult(statistic=-0.6516549214018045, pvalue=1.3755738763727689e-275)"
      ]
     },
     "execution_count": 313,
     "metadata": {},
     "output_type": "execute_result"
    }
   ],
   "source": [
    "scipy.stats.kendalltau(df0['Maternal mortality ratio'], df0['Soap and water onsite access'], nan_policy='omit')"
   ]
  },
  {
   "cell_type": "code",
   "execution_count": 314,
   "id": "e369b942-a65a-472e-a272-9983643150de",
   "metadata": {},
   "outputs": [
    {
     "data": {
      "text/plain": [
       "SignificanceResult(statistic=0.5805686731022862, pvalue=3.5235186038505265e-215)"
      ]
     },
     "execution_count": 314,
     "metadata": {},
     "output_type": "execute_result"
    }
   ],
   "source": [
    "scipy.stats.kendalltau(df0['Maternal mortality ratio'], df0['Population below intl poverty line'], nan_policy='omit')"
   ]
  },
  {
   "cell_type": "code",
   "execution_count": 315,
   "id": "5cae96b1-234b-4497-b957-b0c5a9d123b8",
   "metadata": {},
   "outputs": [
    {
     "data": {
      "text/plain": [
       "SignificanceResult(statistic=-0.153034411593832, pvalue=4.94900292000789e-44)"
      ]
     },
     "execution_count": 315,
     "metadata": {},
     "output_type": "execute_result"
    }
   ],
   "source": [
    "scipy.stats.kendalltau(df0['Maternal mortality ratio'], df0['Improved sanitation access'], nan_policy='omit')"
   ]
  },
  {
   "cell_type": "code",
   "execution_count": 316,
   "id": "ed8d8302-eb84-4b3e-b9d6-8a1c31201c9d",
   "metadata": {},
   "outputs": [
    {
     "data": {
      "text/plain": [
       "SignificanceResult(statistic=-0.36455257005389585, pvalue=5.840149240060151e-137)"
      ]
     },
     "execution_count": 316,
     "metadata": {},
     "output_type": "execute_result"
    }
   ],
   "source": [
    "scipy.stats.kendalltau(df0['Maternal mortality ratio'], df0['Improved water access'], nan_policy='omit')"
   ]
  },
  {
   "cell_type": "code",
   "execution_count": null,
   "id": "8106aa4d-3b20-43a9-b32c-33573110559e",
   "metadata": {},
   "outputs": [],
   "source": []
  }
 ],
 "metadata": {
  "kernelspec": {
   "display_name": "Python 3 (ipykernel)",
   "language": "python",
   "name": "python3"
  },
  "language_info": {
   "codemirror_mode": {
    "name": "ipython",
    "version": 3
   },
   "file_extension": ".py",
   "mimetype": "text/x-python",
   "name": "python",
   "nbconvert_exporter": "python",
   "pygments_lexer": "ipython3",
   "version": "3.12.2"
  }
 },
 "nbformat": 4,
 "nbformat_minor": 5
}
